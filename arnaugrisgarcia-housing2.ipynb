{
 "cells": [
  {
   "cell_type": "markdown",
   "id": "db4e3800",
   "metadata": {
    "papermill": {
     "duration": 0.077934,
     "end_time": "2022-01-20T10:54:14.044281",
     "exception": false,
     "start_time": "2022-01-20T10:54:13.966347",
     "status": "completed"
    },
    "tags": []
   },
   "source": [
    "## End-to-end Machine Learning project\n",
    "\n",
    "Notebook adapted and inspired from: https://github.com/ageron/handson-ml2/blob/master/02_end_to_end_machine_learning_project.ipynb"
   ]
  },
  {
   "cell_type": "code",
   "execution_count": 1,
   "id": "b3eba1c7",
   "metadata": {
    "execution": {
     "iopub.execute_input": "2022-01-20T10:54:14.217198Z",
     "iopub.status.busy": "2022-01-20T10:54:14.216505Z",
     "iopub.status.idle": "2022-01-20T10:54:15.163246Z",
     "shell.execute_reply": "2022-01-20T10:54:15.162575Z",
     "shell.execute_reply.started": "2021-10-11T17:22:51.31409Z"
    },
    "papermill": {
     "duration": 1.04233,
     "end_time": "2022-01-20T10:54:15.163411",
     "exception": false,
     "start_time": "2022-01-20T10:54:14.121081",
     "status": "completed"
    },
    "tags": []
   },
   "outputs": [
    {
     "data": {
      "text/html": [
       "<style>.container { width:100% !important; }</style>"
      ],
      "text/plain": [
       "<IPython.core.display.HTML object>"
      ]
     },
     "metadata": {},
     "output_type": "display_data"
    }
   ],
   "source": [
    "# some imports\n",
    "from IPython.core.display import display, HTML\n",
    "display(HTML(\"<style>.container { width:100% !important; }</style>\"))\n",
    "\n",
    "# Python ≥3.5 is required\n",
    "import sys\n",
    "assert sys.version_info >= (3, 5)\n",
    "\n",
    "# Scikit-Learn ≥0.20 is required\n",
    "import sklearn\n",
    "assert sklearn.__version__ >= \"0.20\"\n",
    "\n",
    "# Common imports\n",
    "import numpy as np\n",
    "import os\n",
    "\n",
    "# to make this notebook's output stable across runs\n",
    "np.random.seed(42)\n",
    "\n",
    "# To plot pretty figures\n",
    "%matplotlib inline\n",
    "import matplotlib as mpl\n",
    "import matplotlib.pyplot as plt\n",
    "mpl.rc('axes', labelsize=14)\n",
    "mpl.rc('xtick', labelsize=12)\n",
    "mpl.rc('ytick', labelsize=12)\n",
    "plt.rc('font', size=12) \n",
    "plt.rc('figure', figsize = (12, 5))\n",
    "\n",
    "# Settings for the visualizations\n",
    "import seaborn as sns\n",
    "sns.set_style(\"whitegrid\")\n",
    "sns.set_context(\"notebook\", font_scale=1, rc={\"lines.linewidth\": 2,'font.family': [u'times']})\n",
    "\n",
    "import pandas as pd\n",
    "pd.set_option('display.max_rows', 25)\n",
    "pd.set_option('display.max_columns', 500)\n",
    "pd.set_option('display.max_colwidth', 50)\n",
    "\n",
    "# Ignore useless warnings (see SciPy issue #5998)\n",
    "import warnings\n",
    "warnings.filterwarnings(action=\"ignore\", message=\"^internal gelsd\")\n",
    "\n",
    "# create output folder\n",
    "if not os.path.exists('output'):\n",
    "    os.makedirs('output')\n",
    "if not os.path.exists('output/session1'):\n",
    "    os.makedirs('output/session1')"
   ]
  },
  {
   "cell_type": "code",
   "execution_count": 2,
   "id": "c4d6fd22",
   "metadata": {
    "execution": {
     "iopub.execute_input": "2022-01-20T10:54:15.318951Z",
     "iopub.status.busy": "2022-01-20T10:54:15.318343Z",
     "iopub.status.idle": "2022-01-20T10:54:15.320462Z",
     "shell.execute_reply": "2022-01-20T10:54:15.320925Z",
     "shell.execute_reply.started": "2021-10-11T17:22:51.342361Z"
    },
    "papermill": {
     "duration": 0.081622,
     "end_time": "2022-01-20T10:54:15.321086",
     "exception": false,
     "start_time": "2022-01-20T10:54:15.239464",
     "status": "completed"
    },
    "tags": []
   },
   "outputs": [],
   "source": [
    "# to make this notebook's output identical at every run\n",
    "np.random.seed(42)"
   ]
  },
  {
   "cell_type": "markdown",
   "id": "2f03464c",
   "metadata": {
    "papermill": {
     "duration": 0.076073,
     "end_time": "2022-01-20T10:54:15.482533",
     "exception": false,
     "start_time": "2022-01-20T10:54:15.406460",
     "status": "completed"
    },
    "tags": []
   },
   "source": [
    "## Get the data"
   ]
  },
  {
   "cell_type": "code",
   "execution_count": 3,
   "id": "ca800e99",
   "metadata": {
    "execution": {
     "iopub.execute_input": "2022-01-20T10:54:15.637529Z",
     "iopub.status.busy": "2022-01-20T10:54:15.634979Z",
     "iopub.status.idle": "2022-01-20T10:54:15.735919Z",
     "shell.execute_reply": "2022-01-20T10:54:15.735273Z",
     "shell.execute_reply.started": "2021-10-11T17:22:51.352438Z"
    },
    "papermill": {
     "duration": 0.178681,
     "end_time": "2022-01-20T10:54:15.736198",
     "exception": true,
     "start_time": "2022-01-20T10:54:15.557517",
     "status": "failed"
    },
    "tags": []
   },
   "outputs": [
    {
     "ename": "FileNotFoundError",
     "evalue": "[Errno 2] No such file or directory: 'train_set.csv'",
     "output_type": "error",
     "traceback": [
      "\u001b[0;31m---------------------------------------------------------------------------\u001b[0m",
      "\u001b[0;31mFileNotFoundError\u001b[0m                         Traceback (most recent call last)",
      "\u001b[0;32m/tmp/ipykernel_20/4264197347.py\u001b[0m in \u001b[0;36m<module>\u001b[0;34m\u001b[0m\n\u001b[0;32m----> 1\u001b[0;31m \u001b[0mhousing\u001b[0m \u001b[0;34m=\u001b[0m \u001b[0mpd\u001b[0m\u001b[0;34m.\u001b[0m\u001b[0mread_csv\u001b[0m\u001b[0;34m(\u001b[0m\u001b[0;34m'train_set.csv'\u001b[0m\u001b[0;34m,\u001b[0m\u001b[0mindex_col\u001b[0m\u001b[0;34m=\u001b[0m\u001b[0;36m0\u001b[0m\u001b[0;34m)\u001b[0m\u001b[0;34m\u001b[0m\u001b[0;34m\u001b[0m\u001b[0m\n\u001b[0m",
      "\u001b[0;32m/opt/conda/lib/python3.7/site-packages/pandas/util/_decorators.py\u001b[0m in \u001b[0;36mwrapper\u001b[0;34m(*args, **kwargs)\u001b[0m\n\u001b[1;32m    309\u001b[0m                     \u001b[0mstacklevel\u001b[0m\u001b[0;34m=\u001b[0m\u001b[0mstacklevel\u001b[0m\u001b[0;34m,\u001b[0m\u001b[0;34m\u001b[0m\u001b[0;34m\u001b[0m\u001b[0m\n\u001b[1;32m    310\u001b[0m                 )\n\u001b[0;32m--> 311\u001b[0;31m             \u001b[0;32mreturn\u001b[0m \u001b[0mfunc\u001b[0m\u001b[0;34m(\u001b[0m\u001b[0;34m*\u001b[0m\u001b[0margs\u001b[0m\u001b[0;34m,\u001b[0m \u001b[0;34m**\u001b[0m\u001b[0mkwargs\u001b[0m\u001b[0;34m)\u001b[0m\u001b[0;34m\u001b[0m\u001b[0;34m\u001b[0m\u001b[0m\n\u001b[0m\u001b[1;32m    312\u001b[0m \u001b[0;34m\u001b[0m\u001b[0m\n\u001b[1;32m    313\u001b[0m         \u001b[0;32mreturn\u001b[0m \u001b[0mwrapper\u001b[0m\u001b[0;34m\u001b[0m\u001b[0;34m\u001b[0m\u001b[0m\n",
      "\u001b[0;32m/opt/conda/lib/python3.7/site-packages/pandas/io/parsers/readers.py\u001b[0m in \u001b[0;36mread_csv\u001b[0;34m(filepath_or_buffer, sep, delimiter, header, names, index_col, usecols, squeeze, prefix, mangle_dupe_cols, dtype, engine, converters, true_values, false_values, skipinitialspace, skiprows, skipfooter, nrows, na_values, keep_default_na, na_filter, verbose, skip_blank_lines, parse_dates, infer_datetime_format, keep_date_col, date_parser, dayfirst, cache_dates, iterator, chunksize, compression, thousands, decimal, lineterminator, quotechar, quoting, doublequote, escapechar, comment, encoding, encoding_errors, dialect, error_bad_lines, warn_bad_lines, on_bad_lines, delim_whitespace, low_memory, memory_map, float_precision, storage_options)\u001b[0m\n\u001b[1;32m    584\u001b[0m     \u001b[0mkwds\u001b[0m\u001b[0;34m.\u001b[0m\u001b[0mupdate\u001b[0m\u001b[0;34m(\u001b[0m\u001b[0mkwds_defaults\u001b[0m\u001b[0;34m)\u001b[0m\u001b[0;34m\u001b[0m\u001b[0;34m\u001b[0m\u001b[0m\n\u001b[1;32m    585\u001b[0m \u001b[0;34m\u001b[0m\u001b[0m\n\u001b[0;32m--> 586\u001b[0;31m     \u001b[0;32mreturn\u001b[0m \u001b[0m_read\u001b[0m\u001b[0;34m(\u001b[0m\u001b[0mfilepath_or_buffer\u001b[0m\u001b[0;34m,\u001b[0m \u001b[0mkwds\u001b[0m\u001b[0;34m)\u001b[0m\u001b[0;34m\u001b[0m\u001b[0;34m\u001b[0m\u001b[0m\n\u001b[0m\u001b[1;32m    587\u001b[0m \u001b[0;34m\u001b[0m\u001b[0m\n\u001b[1;32m    588\u001b[0m \u001b[0;34m\u001b[0m\u001b[0m\n",
      "\u001b[0;32m/opt/conda/lib/python3.7/site-packages/pandas/io/parsers/readers.py\u001b[0m in \u001b[0;36m_read\u001b[0;34m(filepath_or_buffer, kwds)\u001b[0m\n\u001b[1;32m    480\u001b[0m \u001b[0;34m\u001b[0m\u001b[0m\n\u001b[1;32m    481\u001b[0m     \u001b[0;31m# Create the parser.\u001b[0m\u001b[0;34m\u001b[0m\u001b[0;34m\u001b[0m\u001b[0;34m\u001b[0m\u001b[0m\n\u001b[0;32m--> 482\u001b[0;31m     \u001b[0mparser\u001b[0m \u001b[0;34m=\u001b[0m \u001b[0mTextFileReader\u001b[0m\u001b[0;34m(\u001b[0m\u001b[0mfilepath_or_buffer\u001b[0m\u001b[0;34m,\u001b[0m \u001b[0;34m**\u001b[0m\u001b[0mkwds\u001b[0m\u001b[0;34m)\u001b[0m\u001b[0;34m\u001b[0m\u001b[0;34m\u001b[0m\u001b[0m\n\u001b[0m\u001b[1;32m    483\u001b[0m \u001b[0;34m\u001b[0m\u001b[0m\n\u001b[1;32m    484\u001b[0m     \u001b[0;32mif\u001b[0m \u001b[0mchunksize\u001b[0m \u001b[0;32mor\u001b[0m \u001b[0miterator\u001b[0m\u001b[0;34m:\u001b[0m\u001b[0;34m\u001b[0m\u001b[0;34m\u001b[0m\u001b[0m\n",
      "\u001b[0;32m/opt/conda/lib/python3.7/site-packages/pandas/io/parsers/readers.py\u001b[0m in \u001b[0;36m__init__\u001b[0;34m(self, f, engine, **kwds)\u001b[0m\n\u001b[1;32m    809\u001b[0m             \u001b[0mself\u001b[0m\u001b[0;34m.\u001b[0m\u001b[0moptions\u001b[0m\u001b[0;34m[\u001b[0m\u001b[0;34m\"has_index_names\"\u001b[0m\u001b[0;34m]\u001b[0m \u001b[0;34m=\u001b[0m \u001b[0mkwds\u001b[0m\u001b[0;34m[\u001b[0m\u001b[0;34m\"has_index_names\"\u001b[0m\u001b[0;34m]\u001b[0m\u001b[0;34m\u001b[0m\u001b[0;34m\u001b[0m\u001b[0m\n\u001b[1;32m    810\u001b[0m \u001b[0;34m\u001b[0m\u001b[0m\n\u001b[0;32m--> 811\u001b[0;31m         \u001b[0mself\u001b[0m\u001b[0;34m.\u001b[0m\u001b[0m_engine\u001b[0m \u001b[0;34m=\u001b[0m \u001b[0mself\u001b[0m\u001b[0;34m.\u001b[0m\u001b[0m_make_engine\u001b[0m\u001b[0;34m(\u001b[0m\u001b[0mself\u001b[0m\u001b[0;34m.\u001b[0m\u001b[0mengine\u001b[0m\u001b[0;34m)\u001b[0m\u001b[0;34m\u001b[0m\u001b[0;34m\u001b[0m\u001b[0m\n\u001b[0m\u001b[1;32m    812\u001b[0m \u001b[0;34m\u001b[0m\u001b[0m\n\u001b[1;32m    813\u001b[0m     \u001b[0;32mdef\u001b[0m \u001b[0mclose\u001b[0m\u001b[0;34m(\u001b[0m\u001b[0mself\u001b[0m\u001b[0;34m)\u001b[0m\u001b[0;34m:\u001b[0m\u001b[0;34m\u001b[0m\u001b[0;34m\u001b[0m\u001b[0m\n",
      "\u001b[0;32m/opt/conda/lib/python3.7/site-packages/pandas/io/parsers/readers.py\u001b[0m in \u001b[0;36m_make_engine\u001b[0;34m(self, engine)\u001b[0m\n\u001b[1;32m   1038\u001b[0m             )\n\u001b[1;32m   1039\u001b[0m         \u001b[0;31m# error: Too many arguments for \"ParserBase\"\u001b[0m\u001b[0;34m\u001b[0m\u001b[0;34m\u001b[0m\u001b[0;34m\u001b[0m\u001b[0m\n\u001b[0;32m-> 1040\u001b[0;31m         \u001b[0;32mreturn\u001b[0m \u001b[0mmapping\u001b[0m\u001b[0;34m[\u001b[0m\u001b[0mengine\u001b[0m\u001b[0;34m]\u001b[0m\u001b[0;34m(\u001b[0m\u001b[0mself\u001b[0m\u001b[0;34m.\u001b[0m\u001b[0mf\u001b[0m\u001b[0;34m,\u001b[0m \u001b[0;34m**\u001b[0m\u001b[0mself\u001b[0m\u001b[0;34m.\u001b[0m\u001b[0moptions\u001b[0m\u001b[0;34m)\u001b[0m  \u001b[0;31m# type: ignore[call-arg]\u001b[0m\u001b[0;34m\u001b[0m\u001b[0;34m\u001b[0m\u001b[0m\n\u001b[0m\u001b[1;32m   1041\u001b[0m \u001b[0;34m\u001b[0m\u001b[0m\n\u001b[1;32m   1042\u001b[0m     \u001b[0;32mdef\u001b[0m \u001b[0m_failover_to_python\u001b[0m\u001b[0;34m(\u001b[0m\u001b[0mself\u001b[0m\u001b[0;34m)\u001b[0m\u001b[0;34m:\u001b[0m\u001b[0;34m\u001b[0m\u001b[0;34m\u001b[0m\u001b[0m\n",
      "\u001b[0;32m/opt/conda/lib/python3.7/site-packages/pandas/io/parsers/c_parser_wrapper.py\u001b[0m in \u001b[0;36m__init__\u001b[0;34m(self, src, **kwds)\u001b[0m\n\u001b[1;32m     49\u001b[0m \u001b[0;34m\u001b[0m\u001b[0m\n\u001b[1;32m     50\u001b[0m         \u001b[0;31m# open handles\u001b[0m\u001b[0;34m\u001b[0m\u001b[0;34m\u001b[0m\u001b[0;34m\u001b[0m\u001b[0m\n\u001b[0;32m---> 51\u001b[0;31m         \u001b[0mself\u001b[0m\u001b[0;34m.\u001b[0m\u001b[0m_open_handles\u001b[0m\u001b[0;34m(\u001b[0m\u001b[0msrc\u001b[0m\u001b[0;34m,\u001b[0m \u001b[0mkwds\u001b[0m\u001b[0;34m)\u001b[0m\u001b[0;34m\u001b[0m\u001b[0;34m\u001b[0m\u001b[0m\n\u001b[0m\u001b[1;32m     52\u001b[0m         \u001b[0;32massert\u001b[0m \u001b[0mself\u001b[0m\u001b[0;34m.\u001b[0m\u001b[0mhandles\u001b[0m \u001b[0;32mis\u001b[0m \u001b[0;32mnot\u001b[0m \u001b[0;32mNone\u001b[0m\u001b[0;34m\u001b[0m\u001b[0;34m\u001b[0m\u001b[0m\n\u001b[1;32m     53\u001b[0m \u001b[0;34m\u001b[0m\u001b[0m\n",
      "\u001b[0;32m/opt/conda/lib/python3.7/site-packages/pandas/io/parsers/base_parser.py\u001b[0m in \u001b[0;36m_open_handles\u001b[0;34m(self, src, kwds)\u001b[0m\n\u001b[1;32m    227\u001b[0m             \u001b[0mmemory_map\u001b[0m\u001b[0;34m=\u001b[0m\u001b[0mkwds\u001b[0m\u001b[0;34m.\u001b[0m\u001b[0mget\u001b[0m\u001b[0;34m(\u001b[0m\u001b[0;34m\"memory_map\"\u001b[0m\u001b[0;34m,\u001b[0m \u001b[0;32mFalse\u001b[0m\u001b[0;34m)\u001b[0m\u001b[0;34m,\u001b[0m\u001b[0;34m\u001b[0m\u001b[0;34m\u001b[0m\u001b[0m\n\u001b[1;32m    228\u001b[0m             \u001b[0mstorage_options\u001b[0m\u001b[0;34m=\u001b[0m\u001b[0mkwds\u001b[0m\u001b[0;34m.\u001b[0m\u001b[0mget\u001b[0m\u001b[0;34m(\u001b[0m\u001b[0;34m\"storage_options\"\u001b[0m\u001b[0;34m,\u001b[0m \u001b[0;32mNone\u001b[0m\u001b[0;34m)\u001b[0m\u001b[0;34m,\u001b[0m\u001b[0;34m\u001b[0m\u001b[0;34m\u001b[0m\u001b[0m\n\u001b[0;32m--> 229\u001b[0;31m             \u001b[0merrors\u001b[0m\u001b[0;34m=\u001b[0m\u001b[0mkwds\u001b[0m\u001b[0;34m.\u001b[0m\u001b[0mget\u001b[0m\u001b[0;34m(\u001b[0m\u001b[0;34m\"encoding_errors\"\u001b[0m\u001b[0;34m,\u001b[0m \u001b[0;34m\"strict\"\u001b[0m\u001b[0;34m)\u001b[0m\u001b[0;34m,\u001b[0m\u001b[0;34m\u001b[0m\u001b[0;34m\u001b[0m\u001b[0m\n\u001b[0m\u001b[1;32m    230\u001b[0m         )\n\u001b[1;32m    231\u001b[0m \u001b[0;34m\u001b[0m\u001b[0m\n",
      "\u001b[0;32m/opt/conda/lib/python3.7/site-packages/pandas/io/common.py\u001b[0m in \u001b[0;36mget_handle\u001b[0;34m(path_or_buf, mode, encoding, compression, memory_map, is_text, errors, storage_options)\u001b[0m\n\u001b[1;32m    704\u001b[0m                 \u001b[0mencoding\u001b[0m\u001b[0;34m=\u001b[0m\u001b[0mioargs\u001b[0m\u001b[0;34m.\u001b[0m\u001b[0mencoding\u001b[0m\u001b[0;34m,\u001b[0m\u001b[0;34m\u001b[0m\u001b[0;34m\u001b[0m\u001b[0m\n\u001b[1;32m    705\u001b[0m                 \u001b[0merrors\u001b[0m\u001b[0;34m=\u001b[0m\u001b[0merrors\u001b[0m\u001b[0;34m,\u001b[0m\u001b[0;34m\u001b[0m\u001b[0;34m\u001b[0m\u001b[0m\n\u001b[0;32m--> 706\u001b[0;31m                 \u001b[0mnewline\u001b[0m\u001b[0;34m=\u001b[0m\u001b[0;34m\"\"\u001b[0m\u001b[0;34m,\u001b[0m\u001b[0;34m\u001b[0m\u001b[0;34m\u001b[0m\u001b[0m\n\u001b[0m\u001b[1;32m    707\u001b[0m             )\n\u001b[1;32m    708\u001b[0m         \u001b[0;32melse\u001b[0m\u001b[0;34m:\u001b[0m\u001b[0;34m\u001b[0m\u001b[0;34m\u001b[0m\u001b[0m\n",
      "\u001b[0;31mFileNotFoundError\u001b[0m: [Errno 2] No such file or directory: 'train_set.csv'"
     ]
    }
   ],
   "source": [
    "housing = pd.read_csv('train_set.csv',index_col=0) "
   ]
  },
  {
   "cell_type": "code",
   "execution_count": null,
   "id": "ef208b10",
   "metadata": {
    "execution": {
     "iopub.execute_input": "2021-10-11T17:22:51.396899Z",
     "iopub.status.busy": "2021-10-11T17:22:51.395953Z",
     "iopub.status.idle": "2021-10-11T17:22:51.402938Z",
     "shell.execute_reply": "2021-10-11T17:22:51.402033Z",
     "shell.execute_reply.started": "2021-10-11T17:22:51.396839Z"
    },
    "papermill": {
     "duration": null,
     "end_time": null,
     "exception": null,
     "start_time": null,
     "status": "pending"
    },
    "tags": []
   },
   "outputs": [],
   "source": [
    "housing.shape"
   ]
  },
  {
   "cell_type": "code",
   "execution_count": null,
   "id": "6777076a",
   "metadata": {
    "execution": {
     "iopub.execute_input": "2021-10-11T17:22:51.405826Z",
     "iopub.status.busy": "2021-10-11T17:22:51.405031Z",
     "iopub.status.idle": "2021-10-11T17:22:51.448732Z",
     "shell.execute_reply": "2021-10-11T17:22:51.447707Z",
     "shell.execute_reply.started": "2021-10-11T17:22:51.405786Z"
    },
    "papermill": {
     "duration": null,
     "end_time": null,
     "exception": null,
     "start_time": null,
     "status": "pending"
    },
    "tags": []
   },
   "outputs": [],
   "source": [
    "housing.head(10)"
   ]
  },
  {
   "cell_type": "code",
   "execution_count": null,
   "id": "36ec87f1",
   "metadata": {
    "execution": {
     "iopub.execute_input": "2021-10-11T17:22:51.45015Z",
     "iopub.status.busy": "2021-10-11T17:22:51.449923Z",
     "iopub.status.idle": "2021-10-11T17:22:51.471146Z",
     "shell.execute_reply": "2021-10-11T17:22:51.470009Z",
     "shell.execute_reply.started": "2021-10-11T17:22:51.450121Z"
    },
    "papermill": {
     "duration": null,
     "end_time": null,
     "exception": null,
     "start_time": null,
     "status": "pending"
    },
    "tags": []
   },
   "outputs": [],
   "source": [
    "housing.info()"
   ]
  },
  {
   "cell_type": "code",
   "execution_count": null,
   "id": "b6d3cb6c",
   "metadata": {
    "execution": {
     "iopub.execute_input": "2021-10-11T17:22:51.473494Z",
     "iopub.status.busy": "2021-10-11T17:22:51.472946Z",
     "iopub.status.idle": "2021-10-11T17:22:51.484211Z",
     "shell.execute_reply": "2021-10-11T17:22:51.483169Z",
     "shell.execute_reply.started": "2021-10-11T17:22:51.473442Z"
    },
    "papermill": {
     "duration": null,
     "end_time": null,
     "exception": null,
     "start_time": null,
     "status": "pending"
    },
    "tags": []
   },
   "outputs": [],
   "source": [
    "housing[\"Type\"].value_counts()"
   ]
  },
  {
   "cell_type": "code",
   "execution_count": null,
   "id": "57c565bc",
   "metadata": {
    "execution": {
     "iopub.execute_input": "2021-10-11T17:22:51.486546Z",
     "iopub.status.busy": "2021-10-11T17:22:51.486192Z",
     "iopub.status.idle": "2021-10-11T17:22:51.54544Z",
     "shell.execute_reply": "2021-10-11T17:22:51.544608Z",
     "shell.execute_reply.started": "2021-10-11T17:22:51.486498Z"
    },
    "papermill": {
     "duration": null,
     "end_time": null,
     "exception": null,
     "start_time": null,
     "status": "pending"
    },
    "tags": []
   },
   "outputs": [],
   "source": [
    "housing.describe()"
   ]
  },
  {
   "cell_type": "code",
   "execution_count": null,
   "id": "b40cc113",
   "metadata": {
    "execution": {
     "iopub.execute_input": "2021-10-11T17:22:51.547101Z",
     "iopub.status.busy": "2021-10-11T17:22:51.546873Z",
     "iopub.status.idle": "2021-10-11T17:22:51.60319Z",
     "shell.execute_reply": "2021-10-11T17:22:51.601916Z",
     "shell.execute_reply.started": "2021-10-11T17:22:51.547072Z"
    },
    "papermill": {
     "duration": null,
     "end_time": null,
     "exception": null,
     "start_time": null,
     "status": "pending"
    },
    "tags": []
   },
   "outputs": [],
   "source": [
    "## POSTCODE IS NOT NUMERIC, we should change it to categorica\n",
    "housing['Postcode'] = pd.Categorical(housing.Postcode)\n",
    "housing.describe()"
   ]
  },
  {
   "cell_type": "code",
   "execution_count": null,
   "id": "ab78976a",
   "metadata": {
    "execution": {
     "iopub.execute_input": "2021-10-11T17:22:51.607218Z",
     "iopub.status.busy": "2021-10-11T17:22:51.606863Z",
     "iopub.status.idle": "2021-10-11T17:22:54.11817Z",
     "shell.execute_reply": "2021-10-11T17:22:54.117258Z",
     "shell.execute_reply.started": "2021-10-11T17:22:51.607168Z"
    },
    "papermill": {
     "duration": null,
     "end_time": null,
     "exception": null,
     "start_time": null,
     "status": "pending"
    },
    "tags": []
   },
   "outputs": [],
   "source": [
    "housing.hist(bins=10, figsize=(20,15))\n",
    "plt.show()"
   ]
  },
  {
   "cell_type": "markdown",
   "id": "552ad7d4",
   "metadata": {
    "papermill": {
     "duration": null,
     "end_time": null,
     "exception": null,
     "start_time": null,
     "status": "pending"
    },
    "tags": []
   },
   "source": [
    "## Divide into train - validation\n",
    "\n",
    "There are several ways to divide your training data. Sometimes it is important to create a stratified sampling."
   ]
  },
  {
   "cell_type": "code",
   "execution_count": null,
   "id": "89f23ffd",
   "metadata": {
    "execution": {
     "iopub.execute_input": "2021-10-11T17:22:54.120336Z",
     "iopub.status.busy": "2021-10-11T17:22:54.119548Z",
     "iopub.status.idle": "2021-10-11T17:22:54.127094Z",
     "shell.execute_reply": "2021-10-11T17:22:54.126152Z",
     "shell.execute_reply.started": "2021-10-11T17:22:54.120293Z"
    },
    "papermill": {
     "duration": null,
     "end_time": null,
     "exception": null,
     "start_time": null,
     "status": "pending"
    },
    "tags": []
   },
   "outputs": [],
   "source": [
    "# For illustration only. Sklearn has train_test_split()\n",
    "def split_train_test(data, test_ratio):\n",
    "    shuffled_indices = np.random.permutation(len(data))\n",
    "    test_set_size = int(len(data) * test_ratio)\n",
    "    test_indices = shuffled_indices[:test_set_size]\n",
    "    train_indices = shuffled_indices[test_set_size:]\n",
    "    return data.iloc[train_indices], data.iloc[test_indices]"
   ]
  },
  {
   "cell_type": "code",
   "execution_count": null,
   "id": "78da934c",
   "metadata": {
    "execution": {
     "iopub.execute_input": "2021-10-11T17:22:54.12851Z",
     "iopub.status.busy": "2021-10-11T17:22:54.128279Z",
     "iopub.status.idle": "2021-10-11T17:22:54.149283Z",
     "shell.execute_reply": "2021-10-11T17:22:54.148354Z",
     "shell.execute_reply.started": "2021-10-11T17:22:54.128483Z"
    },
    "papermill": {
     "duration": null,
     "end_time": null,
     "exception": null,
     "start_time": null,
     "status": "pending"
    },
    "tags": []
   },
   "outputs": [],
   "source": [
    "train_set, test_set = split_train_test(housing, 0.2)\n",
    "len(train_set),len(test_set)"
   ]
  },
  {
   "cell_type": "code",
   "execution_count": null,
   "id": "f7051811",
   "metadata": {
    "execution": {
     "iopub.execute_input": "2021-10-11T17:22:54.150685Z",
     "iopub.status.busy": "2021-10-11T17:22:54.150427Z",
     "iopub.status.idle": "2021-10-11T17:22:54.160512Z",
     "shell.execute_reply": "2021-10-11T17:22:54.159572Z",
     "shell.execute_reply.started": "2021-10-11T17:22:54.150656Z"
    },
    "papermill": {
     "duration": null,
     "end_time": null,
     "exception": null,
     "start_time": null,
     "status": "pending"
    },
    "tags": []
   },
   "outputs": [],
   "source": [
    "## Create a function that divides the data with an id\n",
    "## checks that id is not train and test set\n",
    "from zlib import crc32\n",
    "\n",
    "def test_set_check(identifier, test_ratio):\n",
    "    return crc32(np.int64(identifier)) & 0xffffffff < test_ratio * 2**32\n",
    "\n",
    "def split_train_test_by_id(data, test_ratio, id_column):\n",
    "    ids = data[id_column]\n",
    "    in_test_set = ids.apply(lambda id_: test_set_check(id_, test_ratio))\n",
    "    return data.loc[~in_test_set], data.loc[in_test_set]"
   ]
  },
  {
   "cell_type": "code",
   "execution_count": null,
   "id": "72bd08b2",
   "metadata": {
    "execution": {
     "iopub.execute_input": "2021-10-11T17:22:54.162261Z",
     "iopub.status.busy": "2021-10-11T17:22:54.162015Z",
     "iopub.status.idle": "2021-10-11T17:22:54.210681Z",
     "shell.execute_reply": "2021-10-11T17:22:54.209844Z",
     "shell.execute_reply.started": "2021-10-11T17:22:54.162233Z"
    },
    "papermill": {
     "duration": null,
     "end_time": null,
     "exception": null,
     "start_time": null,
     "status": "pending"
    },
    "tags": []
   },
   "outputs": [],
   "source": [
    "housing_with_id = housing.reset_index()   # adds an `index` column\n",
    "train_set, test_set = split_train_test_by_id(housing_with_id, 0.2, \"index\")\n",
    "\n",
    "## create an id base on latitude and longitude\n",
    "housing_with_id[\"id\"] = housing[\"Longtitude\"] * 1000 + housing[\"Lattitude\"]\n",
    "train_set, test_set = split_train_test_by_id(housing_with_id, 0.2, \"id\")"
   ]
  },
  {
   "cell_type": "code",
   "execution_count": null,
   "id": "3ec72801",
   "metadata": {
    "execution": {
     "iopub.execute_input": "2021-10-11T17:22:54.212216Z",
     "iopub.status.busy": "2021-10-11T17:22:54.211962Z",
     "iopub.status.idle": "2021-10-11T17:22:54.241801Z",
     "shell.execute_reply": "2021-10-11T17:22:54.241117Z",
     "shell.execute_reply.started": "2021-10-11T17:22:54.212187Z"
    },
    "papermill": {
     "duration": null,
     "end_time": null,
     "exception": null,
     "start_time": null,
     "status": "pending"
    },
    "tags": []
   },
   "outputs": [],
   "source": [
    "test_set.head()"
   ]
  },
  {
   "cell_type": "code",
   "execution_count": null,
   "id": "e106d1c9",
   "metadata": {
    "execution": {
     "iopub.execute_input": "2021-10-11T17:22:54.243417Z",
     "iopub.status.busy": "2021-10-11T17:22:54.243124Z",
     "iopub.status.idle": "2021-10-11T17:22:54.253752Z",
     "shell.execute_reply": "2021-10-11T17:22:54.252857Z",
     "shell.execute_reply.started": "2021-10-11T17:22:54.243383Z"
    },
    "papermill": {
     "duration": null,
     "end_time": null,
     "exception": null,
     "start_time": null,
     "status": "pending"
    },
    "tags": []
   },
   "outputs": [],
   "source": [
    "## divide using the scikit learn function\n",
    "from sklearn.model_selection import train_test_split\n",
    "\n",
    "train_set, test_set = train_test_split(housing, test_size=0.2, random_state=42)"
   ]
  },
  {
   "cell_type": "code",
   "execution_count": null,
   "id": "57da6dba",
   "metadata": {
    "execution": {
     "iopub.execute_input": "2021-10-11T17:22:54.255844Z",
     "iopub.status.busy": "2021-10-11T17:22:54.2555Z",
     "iopub.status.idle": "2021-10-11T17:22:54.537409Z",
     "shell.execute_reply": "2021-10-11T17:22:54.536582Z",
     "shell.execute_reply.started": "2021-10-11T17:22:54.255805Z"
    },
    "papermill": {
     "duration": null,
     "end_time": null,
     "exception": null,
     "start_time": null,
     "status": "pending"
    },
    "tags": []
   },
   "outputs": [],
   "source": [
    "housing[\"Price\"].hist()"
   ]
  },
  {
   "cell_type": "code",
   "execution_count": null,
   "id": "8c7cab0a",
   "metadata": {
    "execution": {
     "iopub.execute_input": "2021-10-11T17:22:54.539354Z",
     "iopub.status.busy": "2021-10-11T17:22:54.53905Z",
     "iopub.status.idle": "2021-10-11T17:22:54.548246Z",
     "shell.execute_reply": "2021-10-11T17:22:54.547495Z",
     "shell.execute_reply.started": "2021-10-11T17:22:54.539315Z"
    },
    "papermill": {
     "duration": null,
     "end_time": null,
     "exception": null,
     "start_time": null,
     "status": "pending"
    },
    "tags": []
   },
   "outputs": [],
   "source": [
    "housing[\"price_cat\"] = pd.cut(housing[\"Price\"],\n",
    "                               bins=[0., 500000, 1000000, 1500000, 2000000., np.inf],\n",
    "                               labels=[1, 2, 3, 4, 5])"
   ]
  },
  {
   "cell_type": "code",
   "execution_count": null,
   "id": "5c00ce59",
   "metadata": {
    "execution": {
     "iopub.execute_input": "2021-10-11T17:22:54.550008Z",
     "iopub.status.busy": "2021-10-11T17:22:54.549802Z",
     "iopub.status.idle": "2021-10-11T17:22:54.562654Z",
     "shell.execute_reply": "2021-10-11T17:22:54.56185Z",
     "shell.execute_reply.started": "2021-10-11T17:22:54.549984Z"
    },
    "papermill": {
     "duration": null,
     "end_time": null,
     "exception": null,
     "start_time": null,
     "status": "pending"
    },
    "tags": []
   },
   "outputs": [],
   "source": [
    "housing[\"price_cat\"].value_counts()"
   ]
  },
  {
   "cell_type": "code",
   "execution_count": null,
   "id": "b6d67277",
   "metadata": {
    "execution": {
     "iopub.execute_input": "2021-10-11T17:22:54.56793Z",
     "iopub.status.busy": "2021-10-11T17:22:54.567648Z",
     "iopub.status.idle": "2021-10-11T17:22:54.842461Z",
     "shell.execute_reply": "2021-10-11T17:22:54.841619Z",
     "shell.execute_reply.started": "2021-10-11T17:22:54.5679Z"
    },
    "papermill": {
     "duration": null,
     "end_time": null,
     "exception": null,
     "start_time": null,
     "status": "pending"
    },
    "tags": []
   },
   "outputs": [],
   "source": [
    "housing[\"price_cat\"].hist()"
   ]
  },
  {
   "cell_type": "code",
   "execution_count": null,
   "id": "62252fc6",
   "metadata": {
    "execution": {
     "iopub.execute_input": "2021-10-11T17:22:54.843947Z",
     "iopub.status.busy": "2021-10-11T17:22:54.843688Z",
     "iopub.status.idle": "2021-10-11T17:22:54.858276Z",
     "shell.execute_reply": "2021-10-11T17:22:54.857383Z",
     "shell.execute_reply.started": "2021-10-11T17:22:54.843916Z"
    },
    "papermill": {
     "duration": null,
     "end_time": null,
     "exception": null,
     "start_time": null,
     "status": "pending"
    },
    "tags": []
   },
   "outputs": [],
   "source": [
    "from sklearn.model_selection import StratifiedShuffleSplit\n",
    "\n",
    "split = StratifiedShuffleSplit(n_splits=1, test_size=0.2, random_state=42)\n",
    "for train_index, test_index in split.split(housing, housing[\"price_cat\"]):\n",
    "    strat_train_set = housing.loc[train_index]\n",
    "    strat_test_set = housing.loc[test_index]"
   ]
  },
  {
   "cell_type": "code",
   "execution_count": null,
   "id": "bfab1c18",
   "metadata": {
    "execution": {
     "iopub.execute_input": "2021-10-11T17:22:54.859847Z",
     "iopub.status.busy": "2021-10-11T17:22:54.859557Z",
     "iopub.status.idle": "2021-10-11T17:22:54.869228Z",
     "shell.execute_reply": "2021-10-11T17:22:54.868319Z",
     "shell.execute_reply.started": "2021-10-11T17:22:54.859806Z"
    },
    "papermill": {
     "duration": null,
     "end_time": null,
     "exception": null,
     "start_time": null,
     "status": "pending"
    },
    "tags": []
   },
   "outputs": [],
   "source": [
    "strat_test_set[\"price_cat\"].value_counts() / len(strat_test_set)\n"
   ]
  },
  {
   "cell_type": "code",
   "execution_count": null,
   "id": "a20a74eb",
   "metadata": {
    "execution": {
     "iopub.execute_input": "2021-10-11T17:22:54.870495Z",
     "iopub.status.busy": "2021-10-11T17:22:54.870267Z",
     "iopub.status.idle": "2021-10-11T17:22:54.885075Z",
     "shell.execute_reply": "2021-10-11T17:22:54.884281Z",
     "shell.execute_reply.started": "2021-10-11T17:22:54.870462Z"
    },
    "papermill": {
     "duration": null,
     "end_time": null,
     "exception": null,
     "start_time": null,
     "status": "pending"
    },
    "tags": []
   },
   "outputs": [],
   "source": [
    "housing[\"price_cat\"].value_counts() / len(housing)"
   ]
  },
  {
   "cell_type": "code",
   "execution_count": null,
   "id": "2563c7de",
   "metadata": {
    "execution": {
     "iopub.execute_input": "2021-10-11T17:22:54.886408Z",
     "iopub.status.busy": "2021-10-11T17:22:54.886188Z",
     "iopub.status.idle": "2021-10-11T17:22:54.90694Z",
     "shell.execute_reply": "2021-10-11T17:22:54.905905Z",
     "shell.execute_reply.started": "2021-10-11T17:22:54.886381Z"
    },
    "papermill": {
     "duration": null,
     "end_time": null,
     "exception": null,
     "start_time": null,
     "status": "pending"
    },
    "tags": []
   },
   "outputs": [],
   "source": [
    "def price_cat_proportions(data):\n",
    "    return data[\"price_cat\"].value_counts() / len(data)\n",
    "\n",
    "train_set, test_set = train_test_split(housing, test_size=0.2, random_state=42)\n",
    "\n",
    "compare_props = pd.DataFrame({\n",
    "    \"Overall\": price_cat_proportions(housing),\n",
    "    \"Stratified\": price_cat_proportions(strat_test_set),\n",
    "    \"Random\": price_cat_proportions(test_set),\n",
    "}).sort_index()\n",
    "compare_props[\"Rand. %error\"] = 100 * compare_props[\"Random\"] / compare_props[\"Overall\"] - 100\n",
    "compare_props[\"Strat. %error\"] = 100 * compare_props[\"Stratified\"] / compare_props[\"Overall\"] - 100"
   ]
  },
  {
   "cell_type": "code",
   "execution_count": null,
   "id": "558fc10d",
   "metadata": {
    "execution": {
     "iopub.execute_input": "2021-10-11T17:22:54.908478Z",
     "iopub.status.busy": "2021-10-11T17:22:54.908247Z",
     "iopub.status.idle": "2021-10-11T17:22:54.919605Z",
     "shell.execute_reply": "2021-10-11T17:22:54.91904Z",
     "shell.execute_reply.started": "2021-10-11T17:22:54.90845Z"
    },
    "papermill": {
     "duration": null,
     "end_time": null,
     "exception": null,
     "start_time": null,
     "status": "pending"
    },
    "tags": []
   },
   "outputs": [],
   "source": [
    "## check the proportion of each category with the different approaches\n",
    "compare_props"
   ]
  },
  {
   "cell_type": "code",
   "execution_count": null,
   "id": "951cc0a4",
   "metadata": {
    "execution": {
     "iopub.execute_input": "2021-10-11T17:22:54.921237Z",
     "iopub.status.busy": "2021-10-11T17:22:54.920909Z",
     "iopub.status.idle": "2021-10-11T17:22:54.932431Z",
     "shell.execute_reply": "2021-10-11T17:22:54.931783Z",
     "shell.execute_reply.started": "2021-10-11T17:22:54.921142Z"
    },
    "papermill": {
     "duration": null,
     "end_time": null,
     "exception": null,
     "start_time": null,
     "status": "pending"
    },
    "tags": []
   },
   "outputs": [],
   "source": [
    "for set_ in (strat_train_set, strat_test_set):\n",
    "    set_.drop(\"price_cat\", axis=1, inplace=True)"
   ]
  },
  {
   "cell_type": "markdown",
   "id": "b17af2ae",
   "metadata": {
    "papermill": {
     "duration": null,
     "end_time": null,
     "exception": null,
     "start_time": null,
     "status": "pending"
    },
    "tags": []
   },
   "source": [
    "## Discover and visualize the data to gain insights"
   ]
  },
  {
   "cell_type": "code",
   "execution_count": null,
   "id": "d3bb221b",
   "metadata": {
    "execution": {
     "iopub.execute_input": "2021-10-11T17:22:54.934664Z",
     "iopub.status.busy": "2021-10-11T17:22:54.933854Z",
     "iopub.status.idle": "2021-10-11T17:22:54.941232Z",
     "shell.execute_reply": "2021-10-11T17:22:54.940672Z",
     "shell.execute_reply.started": "2021-10-11T17:22:54.934633Z"
    },
    "papermill": {
     "duration": null,
     "end_time": null,
     "exception": null,
     "start_time": null,
     "status": "pending"
    },
    "tags": []
   },
   "outputs": [],
   "source": [
    "housing = strat_train_set.copy()"
   ]
  },
  {
   "cell_type": "code",
   "execution_count": null,
   "id": "d61a4981",
   "metadata": {
    "execution": {
     "iopub.execute_input": "2021-10-11T17:22:54.943122Z",
     "iopub.status.busy": "2021-10-11T17:22:54.942447Z",
     "iopub.status.idle": "2021-10-11T17:22:55.299526Z",
     "shell.execute_reply": "2021-10-11T17:22:55.298491Z",
     "shell.execute_reply.started": "2021-10-11T17:22:54.943083Z"
    },
    "papermill": {
     "duration": null,
     "end_time": null,
     "exception": null,
     "start_time": null,
     "status": "pending"
    },
    "tags": []
   },
   "outputs": [],
   "source": [
    "sns.histplot(train_set[\"Price\"])\n",
    "plt.show()"
   ]
  },
  {
   "cell_type": "code",
   "execution_count": null,
   "id": "5b2b28ed",
   "metadata": {
    "execution": {
     "iopub.execute_input": "2021-10-11T17:22:55.30101Z",
     "iopub.status.busy": "2021-10-11T17:22:55.300768Z",
     "iopub.status.idle": "2021-10-11T17:22:55.31154Z",
     "shell.execute_reply": "2021-10-11T17:22:55.310646Z",
     "shell.execute_reply.started": "2021-10-11T17:22:55.30098Z"
    },
    "papermill": {
     "duration": null,
     "end_time": null,
     "exception": null,
     "start_time": null,
     "status": "pending"
    },
    "tags": []
   },
   "outputs": [],
   "source": [
    "# We can check how many different type there is in the dataset using the folliwing line\n",
    "train_set[\"Type\"].value_counts()"
   ]
  },
  {
   "cell_type": "code",
   "execution_count": null,
   "id": "a5c0ceef",
   "metadata": {
    "execution": {
     "iopub.execute_input": "2021-10-11T17:22:55.312955Z",
     "iopub.status.busy": "2021-10-11T17:22:55.312718Z",
     "iopub.status.idle": "2021-10-11T17:22:55.733432Z",
     "shell.execute_reply": "2021-10-11T17:22:55.732596Z",
     "shell.execute_reply.started": "2021-10-11T17:22:55.312927Z"
    },
    "papermill": {
     "duration": null,
     "end_time": null,
     "exception": null,
     "start_time": null,
     "status": "pending"
    },
    "tags": []
   },
   "outputs": [],
   "source": [
    "sns.countplot(y=\"Type\", data=train_set, color=\"c\")"
   ]
  },
  {
   "cell_type": "code",
   "execution_count": null,
   "id": "270ca89a",
   "metadata": {
    "execution": {
     "iopub.execute_input": "2021-10-11T17:22:55.735264Z",
     "iopub.status.busy": "2021-10-11T17:22:55.734888Z",
     "iopub.status.idle": "2021-10-11T17:22:55.986104Z",
     "shell.execute_reply": "2021-10-11T17:22:55.985122Z",
     "shell.execute_reply.started": "2021-10-11T17:22:55.735221Z"
    },
    "papermill": {
     "duration": null,
     "end_time": null,
     "exception": null,
     "start_time": null,
     "status": "pending"
    },
    "tags": []
   },
   "outputs": [],
   "source": [
    "housing.plot(kind=\"scatter\", x=\"Longtitude\", y=\"Lattitude\")\n",
    "plt.show()"
   ]
  },
  {
   "cell_type": "code",
   "execution_count": null,
   "id": "6f829b65",
   "metadata": {
    "execution": {
     "iopub.execute_input": "2021-10-11T17:22:55.988025Z",
     "iopub.status.busy": "2021-10-11T17:22:55.9877Z",
     "iopub.status.idle": "2021-10-11T17:22:56.284142Z",
     "shell.execute_reply": "2021-10-11T17:22:56.283583Z",
     "shell.execute_reply.started": "2021-10-11T17:22:55.987984Z"
    },
    "papermill": {
     "duration": null,
     "end_time": null,
     "exception": null,
     "start_time": null,
     "status": "pending"
    },
    "tags": []
   },
   "outputs": [],
   "source": [
    "housing.plot(kind=\"scatter\", x=\"Longtitude\", y=\"Lattitude\", alpha=0.1)\n",
    "plt.show()"
   ]
  },
  {
   "cell_type": "code",
   "execution_count": null,
   "id": "8610d094",
   "metadata": {
    "execution": {
     "iopub.execute_input": "2021-10-11T17:22:56.285789Z",
     "iopub.status.busy": "2021-10-11T17:22:56.285021Z",
     "iopub.status.idle": "2021-10-11T17:22:56.94243Z",
     "shell.execute_reply": "2021-10-11T17:22:56.941523Z",
     "shell.execute_reply.started": "2021-10-11T17:22:56.28572Z"
    },
    "papermill": {
     "duration": null,
     "end_time": null,
     "exception": null,
     "start_time": null,
     "status": "pending"
    },
    "tags": []
   },
   "outputs": [],
   "source": [
    "housing.plot(kind=\"scatter\", x=\"Longtitude\", y=\"Lattitude\", alpha=0.3,\n",
    "             figsize=(25,10),\n",
    "             c=\"Price\", cmap=plt.get_cmap(\"jet\"), colorbar=True,\n",
    "             sharex=False)\n",
    "plt.legend()"
   ]
  },
  {
   "cell_type": "code",
   "execution_count": null,
   "id": "1b7a4324",
   "metadata": {
    "execution": {
     "iopub.execute_input": "2021-10-11T17:22:56.94428Z",
     "iopub.status.busy": "2021-10-11T17:22:56.94391Z",
     "iopub.status.idle": "2021-10-11T17:22:57.662635Z",
     "shell.execute_reply": "2021-10-11T17:22:57.661941Z",
     "shell.execute_reply.started": "2021-10-11T17:22:56.944239Z"
    },
    "papermill": {
     "duration": null,
     "end_time": null,
     "exception": null,
     "start_time": null,
     "status": "pending"
    },
    "tags": []
   },
   "outputs": [],
   "source": [
    "housing.plot(kind=\"scatter\", x=\"Longtitude\", y=\"Lattitude\", alpha=0.3,\n",
    "             s=housing[\"Landsize\"]/25, label=\"Landsize\", \n",
    "             figsize=(25,10),\n",
    "             c=\"Price\", cmap=plt.get_cmap(\"jet\"), colorbar=True,\n",
    "             sharex=False)\n",
    "plt.legend()"
   ]
  },
  {
   "cell_type": "code",
   "execution_count": null,
   "id": "652827ab",
   "metadata": {
    "execution": {
     "iopub.execute_input": "2021-10-11T17:22:57.663941Z",
     "iopub.status.busy": "2021-10-11T17:22:57.663683Z",
     "iopub.status.idle": "2021-10-11T17:22:58.30296Z",
     "shell.execute_reply": "2021-10-11T17:22:58.302075Z",
     "shell.execute_reply.started": "2021-10-11T17:22:57.663912Z"
    },
    "papermill": {
     "duration": null,
     "end_time": null,
     "exception": null,
     "start_time": null,
     "status": "pending"
    },
    "tags": []
   },
   "outputs": [],
   "source": [
    "housing.plot(kind=\"scatter\", x=\"Longtitude\", y=\"Lattitude\", alpha=0.3,\n",
    "             s=housing[\"BuildingArea\"]/5, label=\"BuildingArea\", \n",
    "             figsize=(25,10),\n",
    "             c=\"Price\", cmap=plt.get_cmap(\"jet\"), colorbar=True,\n",
    "             sharex=False)\n",
    "plt.legend()"
   ]
  },
  {
   "cell_type": "code",
   "execution_count": null,
   "id": "89c9683e",
   "metadata": {
    "execution": {
     "iopub.execute_input": "2021-10-11T17:22:58.305081Z",
     "iopub.status.busy": "2021-10-11T17:22:58.304426Z",
     "iopub.status.idle": "2021-10-11T17:22:59.091664Z",
     "shell.execute_reply": "2021-10-11T17:22:59.090918Z",
     "shell.execute_reply.started": "2021-10-11T17:22:58.305037Z"
    },
    "papermill": {
     "duration": null,
     "end_time": null,
     "exception": null,
     "start_time": null,
     "status": "pending"
    },
    "tags": []
   },
   "outputs": [],
   "source": [
    "housing.plot(kind=\"scatter\", x=\"Longtitude\", y=\"Lattitude\", alpha=0.3,\n",
    "             s=housing[\"Distance\"]**2, label=\"BuildingArea\", \n",
    "             figsize=(25,10),\n",
    "             c=\"Price\", cmap=plt.get_cmap(\"jet\"), colorbar=True,\n",
    "             sharex=False)\n",
    "plt.legend()"
   ]
  },
  {
   "cell_type": "code",
   "execution_count": null,
   "id": "a62bc7fd",
   "metadata": {
    "execution": {
     "iopub.execute_input": "2021-10-11T17:22:59.093138Z",
     "iopub.status.busy": "2021-10-11T17:22:59.092792Z",
     "iopub.status.idle": "2021-10-11T17:22:59.099764Z",
     "shell.execute_reply": "2021-10-11T17:22:59.099114Z",
     "shell.execute_reply.started": "2021-10-11T17:22:59.09311Z"
    },
    "papermill": {
     "duration": null,
     "end_time": null,
     "exception": null,
     "start_time": null,
     "status": "pending"
    },
    "tags": []
   },
   "outputs": [],
   "source": [
    "corr_matrix = housing.corr()"
   ]
  },
  {
   "cell_type": "code",
   "execution_count": null,
   "id": "3a5d91ad",
   "metadata": {
    "execution": {
     "iopub.execute_input": "2021-10-11T17:22:59.101168Z",
     "iopub.status.busy": "2021-10-11T17:22:59.100827Z",
     "iopub.status.idle": "2021-10-11T17:22:59.113068Z",
     "shell.execute_reply": "2021-10-11T17:22:59.112305Z",
     "shell.execute_reply.started": "2021-10-11T17:22:59.10113Z"
    },
    "papermill": {
     "duration": null,
     "end_time": null,
     "exception": null,
     "start_time": null,
     "status": "pending"
    },
    "tags": []
   },
   "outputs": [],
   "source": [
    "corr_matrix[\"Price\"].sort_values(ascending=False)"
   ]
  },
  {
   "cell_type": "code",
   "execution_count": null,
   "id": "e296308a",
   "metadata": {
    "execution": {
     "iopub.execute_input": "2021-10-11T17:22:59.114438Z",
     "iopub.status.busy": "2021-10-11T17:22:59.114164Z",
     "iopub.status.idle": "2021-10-11T17:23:01.49448Z",
     "shell.execute_reply": "2021-10-11T17:23:01.493685Z",
     "shell.execute_reply.started": "2021-10-11T17:22:59.114401Z"
    },
    "papermill": {
     "duration": null,
     "end_time": null,
     "exception": null,
     "start_time": null,
     "status": "pending"
    },
    "tags": []
   },
   "outputs": [],
   "source": [
    "# from pandas.tools.plotting import scatter_matrix # For older versions of Pandas\n",
    "from pandas.plotting import scatter_matrix\n",
    "\n",
    "attributes = [\"Price\", \"Rooms\", \"Bedroom2\",\"Bathroom\",\n",
    "              \"YearBuilt\"]\n",
    "scatter_matrix(housing[attributes], figsize=(16, 8))\n",
    "plt.show()"
   ]
  },
  {
   "cell_type": "code",
   "execution_count": null,
   "id": "c69d62c7",
   "metadata": {
    "execution": {
     "iopub.execute_input": "2021-10-11T17:23:01.496098Z",
     "iopub.status.busy": "2021-10-11T17:23:01.495864Z",
     "iopub.status.idle": "2021-10-11T17:23:01.797148Z",
     "shell.execute_reply": "2021-10-11T17:23:01.796238Z",
     "shell.execute_reply.started": "2021-10-11T17:23:01.49607Z"
    },
    "papermill": {
     "duration": null,
     "end_time": null,
     "exception": null,
     "start_time": null,
     "status": "pending"
    },
    "tags": []
   },
   "outputs": [],
   "source": [
    "housing.plot(kind=\"scatter\", x=\"Price\", y=\"Rooms\",\n",
    "             alpha=0.1)\n",
    "plt.show()"
   ]
  },
  {
   "cell_type": "code",
   "execution_count": null,
   "id": "de9a48a8",
   "metadata": {
    "execution": {
     "iopub.execute_input": "2021-10-11T17:23:01.799144Z",
     "iopub.status.busy": "2021-10-11T17:23:01.798825Z",
     "iopub.status.idle": "2021-10-11T17:23:02.105107Z",
     "shell.execute_reply": "2021-10-11T17:23:02.104429Z",
     "shell.execute_reply.started": "2021-10-11T17:23:01.799103Z"
    },
    "papermill": {
     "duration": null,
     "end_time": null,
     "exception": null,
     "start_time": null,
     "status": "pending"
    },
    "tags": []
   },
   "outputs": [],
   "source": [
    "sns.scatterplot(data=housing, x=\"Rooms\", y=\"Price\")\n",
    "plt.show()"
   ]
  },
  {
   "cell_type": "code",
   "execution_count": null,
   "id": "ad983904",
   "metadata": {
    "execution": {
     "iopub.execute_input": "2021-10-11T17:23:02.106254Z",
     "iopub.status.busy": "2021-10-11T17:23:02.105962Z",
     "iopub.status.idle": "2021-10-11T17:23:02.688192Z",
     "shell.execute_reply": "2021-10-11T17:23:02.687641Z",
     "shell.execute_reply.started": "2021-10-11T17:23:02.106227Z"
    },
    "papermill": {
     "duration": null,
     "end_time": null,
     "exception": null,
     "start_time": null,
     "status": "pending"
    },
    "tags": []
   },
   "outputs": [],
   "source": [
    "sns.regplot(data=housing, x=\"Rooms\", y=\"Price\")\n",
    "plt.show()"
   ]
  },
  {
   "cell_type": "code",
   "execution_count": null,
   "id": "0b1fad29",
   "metadata": {
    "execution": {
     "iopub.execute_input": "2021-10-11T17:23:02.689686Z",
     "iopub.status.busy": "2021-10-11T17:23:02.689059Z",
     "iopub.status.idle": "2021-10-11T17:23:02.692949Z",
     "shell.execute_reply": "2021-10-11T17:23:02.691852Z",
     "shell.execute_reply.started": "2021-10-11T17:23:02.689657Z"
    },
    "papermill": {
     "duration": null,
     "end_time": null,
     "exception": null,
     "start_time": null,
     "status": "pending"
    },
    "tags": []
   },
   "outputs": [],
   "source": [
    "## Plot landsize vs Price"
   ]
  },
  {
   "cell_type": "code",
   "execution_count": null,
   "id": "05f91a30",
   "metadata": {
    "execution": {
     "iopub.execute_input": "2021-10-11T17:23:02.69465Z",
     "iopub.status.busy": "2021-10-11T17:23:02.694018Z",
     "iopub.status.idle": "2021-10-11T17:23:03.284821Z",
     "shell.execute_reply": "2021-10-11T17:23:03.283997Z",
     "shell.execute_reply.started": "2021-10-11T17:23:02.694619Z"
    },
    "papermill": {
     "duration": null,
     "end_time": null,
     "exception": null,
     "start_time": null,
     "status": "pending"
    },
    "tags": []
   },
   "outputs": [],
   "source": [
    "sns.regplot(data=housing, x=\"Landsize\", y=\"Price\")\n",
    "plt.show()"
   ]
  },
  {
   "cell_type": "code",
   "execution_count": null,
   "id": "3f2f4921",
   "metadata": {
    "execution": {
     "iopub.execute_input": "2021-10-11T17:23:03.286169Z",
     "iopub.status.busy": "2021-10-11T17:23:03.285935Z",
     "iopub.status.idle": "2021-10-11T17:23:03.851241Z",
     "shell.execute_reply": "2021-10-11T17:23:03.85032Z",
     "shell.execute_reply.started": "2021-10-11T17:23:03.286142Z"
    },
    "papermill": {
     "duration": null,
     "end_time": null,
     "exception": null,
     "start_time": null,
     "status": "pending"
    },
    "tags": []
   },
   "outputs": [],
   "source": [
    "sns.regplot(data=housing, x=\"Landsize\", y=\"Price\")\n",
    "plt.axis([-10, 1000, 0, 5e6])\n",
    "plt.show()"
   ]
  },
  {
   "cell_type": "code",
   "execution_count": null,
   "id": "f09bfde0",
   "metadata": {
    "execution": {
     "iopub.execute_input": "2021-10-11T17:23:03.852608Z",
     "iopub.status.busy": "2021-10-11T17:23:03.852365Z",
     "iopub.status.idle": "2021-10-11T17:23:03.856537Z",
     "shell.execute_reply": "2021-10-11T17:23:03.855764Z",
     "shell.execute_reply.started": "2021-10-11T17:23:03.852578Z"
    },
    "papermill": {
     "duration": null,
     "end_time": null,
     "exception": null,
     "start_time": null,
     "status": "pending"
    },
    "tags": []
   },
   "outputs": [],
   "source": [
    "## mmm there is a lot of 0 at Landsize.... "
   ]
  },
  {
   "cell_type": "code",
   "execution_count": null,
   "id": "97c625d8",
   "metadata": {
    "execution": {
     "iopub.execute_input": "2021-10-11T17:23:03.858452Z",
     "iopub.status.busy": "2021-10-11T17:23:03.857801Z",
     "iopub.status.idle": "2021-10-11T17:23:03.869476Z",
     "shell.execute_reply": "2021-10-11T17:23:03.868625Z",
     "shell.execute_reply.started": "2021-10-11T17:23:03.858415Z"
    },
    "papermill": {
     "duration": null,
     "end_time": null,
     "exception": null,
     "start_time": null,
     "status": "pending"
    },
    "tags": []
   },
   "outputs": [],
   "source": [
    "## Let's see BuildingArea"
   ]
  },
  {
   "cell_type": "code",
   "execution_count": null,
   "id": "e001b3ac",
   "metadata": {
    "execution": {
     "iopub.execute_input": "2021-10-11T17:23:03.871246Z",
     "iopub.status.busy": "2021-10-11T17:23:03.870985Z",
     "iopub.status.idle": "2021-10-11T17:23:04.367171Z",
     "shell.execute_reply": "2021-10-11T17:23:04.366259Z",
     "shell.execute_reply.started": "2021-10-11T17:23:03.871215Z"
    },
    "papermill": {
     "duration": null,
     "end_time": null,
     "exception": null,
     "start_time": null,
     "status": "pending"
    },
    "tags": []
   },
   "outputs": [],
   "source": [
    "sns.regplot(data=housing, x=\"BuildingArea\", y=\"Price\")\n",
    "plt.show()"
   ]
  },
  {
   "cell_type": "code",
   "execution_count": null,
   "id": "eef5d26a",
   "metadata": {
    "execution": {
     "iopub.execute_input": "2021-10-11T17:23:04.368686Z",
     "iopub.status.busy": "2021-10-11T17:23:04.368351Z",
     "iopub.status.idle": "2021-10-11T17:23:04.827332Z",
     "shell.execute_reply": "2021-10-11T17:23:04.826797Z",
     "shell.execute_reply.started": "2021-10-11T17:23:04.368658Z"
    },
    "papermill": {
     "duration": null,
     "end_time": null,
     "exception": null,
     "start_time": null,
     "status": "pending"
    },
    "tags": []
   },
   "outputs": [],
   "source": [
    "sns.regplot(data=housing, x=\"BuildingArea\", y=\"Price\",)\n",
    "plt.axis([-10, 1000, 0, 5e6])\n",
    "plt.show()"
   ]
  },
  {
   "cell_type": "code",
   "execution_count": null,
   "id": "22d3e397",
   "metadata": {
    "execution": {
     "iopub.execute_input": "2021-10-11T17:23:04.834867Z",
     "iopub.status.busy": "2021-10-11T17:23:04.834238Z",
     "iopub.status.idle": "2021-10-11T17:23:04.838522Z",
     "shell.execute_reply": "2021-10-11T17:23:04.837802Z",
     "shell.execute_reply.started": "2021-10-11T17:23:04.834831Z"
    },
    "papermill": {
     "duration": null,
     "end_time": null,
     "exception": null,
     "start_time": null,
     "status": "pending"
    },
    "tags": []
   },
   "outputs": [],
   "source": [
    "## Now there is no 0 but NaNs.. NaNs are not displayed, neither taked into account to estimate the fit"
   ]
  },
  {
   "cell_type": "code",
   "execution_count": null,
   "id": "10c37926",
   "metadata": {
    "execution": {
     "iopub.execute_input": "2021-10-11T17:23:04.839472Z",
     "iopub.status.busy": "2021-10-11T17:23:04.839278Z",
     "iopub.status.idle": "2021-10-11T17:23:04.861609Z",
     "shell.execute_reply": "2021-10-11T17:23:04.860732Z",
     "shell.execute_reply.started": "2021-10-11T17:23:04.839448Z"
    },
    "papermill": {
     "duration": null,
     "end_time": null,
     "exception": null,
     "start_time": null,
     "status": "pending"
    },
    "tags": []
   },
   "outputs": [],
   "source": [
    "housing[['Price','Landsize','BuildingArea']].head(10)"
   ]
  },
  {
   "cell_type": "code",
   "execution_count": null,
   "id": "c19e5b62",
   "metadata": {
    "execution": {
     "iopub.execute_input": "2021-10-11T17:23:04.863061Z",
     "iopub.status.busy": "2021-10-11T17:23:04.862733Z",
     "iopub.status.idle": "2021-10-11T17:23:04.917678Z",
     "shell.execute_reply": "2021-10-11T17:23:04.916607Z",
     "shell.execute_reply.started": "2021-10-11T17:23:04.863034Z"
    },
    "papermill": {
     "duration": null,
     "end_time": null,
     "exception": null,
     "start_time": null,
     "status": "pending"
    },
    "tags": []
   },
   "outputs": [],
   "source": [
    "housing.describe()"
   ]
  },
  {
   "cell_type": "markdown",
   "id": "205f0d70",
   "metadata": {
    "papermill": {
     "duration": null,
     "end_time": null,
     "exception": null,
     "start_time": null,
     "status": "pending"
    },
    "tags": []
   },
   "source": [
    "## Prepare the data for Machine Learning algorithms"
   ]
  },
  {
   "cell_type": "code",
   "execution_count": null,
   "id": "4140c52b",
   "metadata": {
    "execution": {
     "iopub.execute_input": "2021-10-11T17:23:04.919403Z",
     "iopub.status.busy": "2021-10-11T17:23:04.9191Z",
     "iopub.status.idle": "2021-10-11T17:23:04.926543Z",
     "shell.execute_reply": "2021-10-11T17:23:04.925606Z",
     "shell.execute_reply.started": "2021-10-11T17:23:04.919362Z"
    },
    "papermill": {
     "duration": null,
     "end_time": null,
     "exception": null,
     "start_time": null,
     "status": "pending"
    },
    "tags": []
   },
   "outputs": [],
   "source": [
    "housing = strat_train_set.drop(\"Price\", axis=1) # drop labels for training set\n",
    "housing_labels = strat_train_set[\"Price\"].copy()"
   ]
  },
  {
   "cell_type": "markdown",
   "id": "85e3fc22",
   "metadata": {
    "papermill": {
     "duration": null,
     "end_time": null,
     "exception": null,
     "start_time": null,
     "status": "pending"
    },
    "tags": []
   },
   "source": [
    "### Data Cleaning \n",
    "\n",
    "What to do with data with missing values\n",
    "* Option 1: Remove rows\n",
    "* Option 2: Remove columns\n",
    "* Option 3: Impute missing values"
   ]
  },
  {
   "cell_type": "code",
   "execution_count": null,
   "id": "efdc66e2",
   "metadata": {
    "execution": {
     "iopub.execute_input": "2021-10-11T17:23:04.928144Z",
     "iopub.status.busy": "2021-10-11T17:23:04.927843Z",
     "iopub.status.idle": "2021-10-11T17:23:04.96861Z",
     "shell.execute_reply": "2021-10-11T17:23:04.967831Z",
     "shell.execute_reply.started": "2021-10-11T17:23:04.928104Z"
    },
    "papermill": {
     "duration": null,
     "end_time": null,
     "exception": null,
     "start_time": null,
     "status": "pending"
    },
    "tags": []
   },
   "outputs": [],
   "source": [
    "sample_incomplete_rows = housing[housing.isnull().any(axis=1)]\n",
    "print(housing.shape[0],sample_incomplete_rows.shape[0])\n",
    "sample_incomplete_rows.head()"
   ]
  },
  {
   "cell_type": "code",
   "execution_count": null,
   "id": "ac46fec1",
   "metadata": {
    "execution": {
     "iopub.execute_input": "2021-10-11T17:23:04.970771Z",
     "iopub.status.busy": "2021-10-11T17:23:04.969904Z",
     "iopub.status.idle": "2021-10-11T17:23:05.022356Z",
     "shell.execute_reply": "2021-10-11T17:23:05.02137Z",
     "shell.execute_reply.started": "2021-10-11T17:23:04.970707Z"
    },
    "papermill": {
     "duration": null,
     "end_time": null,
     "exception": null,
     "start_time": null,
     "status": "pending"
    },
    "tags": []
   },
   "outputs": [],
   "source": [
    "# # option 1 : remove those rows with nans \n",
    "cols_wiht_nans = housing.columns[housing.isna().any()].tolist()\n",
    "housing.dropna()    "
   ]
  },
  {
   "cell_type": "code",
   "execution_count": null,
   "id": "ddd0b4f5",
   "metadata": {
    "execution": {
     "iopub.execute_input": "2021-10-11T17:23:05.024224Z",
     "iopub.status.busy": "2021-10-11T17:23:05.023919Z",
     "iopub.status.idle": "2021-10-11T17:23:05.071505Z",
     "shell.execute_reply": "2021-10-11T17:23:05.070892Z",
     "shell.execute_reply.started": "2021-10-11T17:23:05.024184Z"
    },
    "papermill": {
     "duration": null,
     "end_time": null,
     "exception": null,
     "start_time": null,
     "status": "pending"
    },
    "tags": []
   },
   "outputs": [],
   "source": [
    "# only from a subset of columns\n",
    "cols_wiht_nans = housing.columns[housing.isna().any()].tolist()\n",
    "housing.dropna(subset=[\"BuildingArea\"])    "
   ]
  },
  {
   "cell_type": "code",
   "execution_count": null,
   "id": "2d42f7d3",
   "metadata": {
    "execution": {
     "iopub.execute_input": "2021-10-11T17:23:05.072955Z",
     "iopub.status.busy": "2021-10-11T17:23:05.072593Z",
     "iopub.status.idle": "2021-10-11T17:23:05.11052Z",
     "shell.execute_reply": "2021-10-11T17:23:05.109886Z",
     "shell.execute_reply.started": "2021-10-11T17:23:05.072926Z"
    },
    "papermill": {
     "duration": null,
     "end_time": null,
     "exception": null,
     "start_time": null,
     "status": "pending"
    },
    "tags": []
   },
   "outputs": [],
   "source": [
    "## option 2 : remove those columns\n",
    "cols_wiht_nans = housing.columns[housing.isna().any()].tolist()\n",
    "housing.drop(cols_wiht_nans, axis=1)       # option 2\n"
   ]
  },
  {
   "cell_type": "code",
   "execution_count": null,
   "id": "16b0c545",
   "metadata": {
    "execution": {
     "iopub.execute_input": "2021-10-11T17:23:05.111882Z",
     "iopub.status.busy": "2021-10-11T17:23:05.111485Z",
     "iopub.status.idle": "2021-10-11T17:23:05.141878Z",
     "shell.execute_reply": "2021-10-11T17:23:05.141281Z",
     "shell.execute_reply.started": "2021-10-11T17:23:05.111854Z"
    },
    "papermill": {
     "duration": null,
     "end_time": null,
     "exception": null,
     "start_time": null,
     "status": "pending"
    },
    "tags": []
   },
   "outputs": [],
   "source": [
    "## option 3 : Set values to some values\n",
    "median = housing[\"BuildingArea\"].median()\n",
    "housing[\"BuildingArea\"].fillna(median, inplace=True) \n",
    "housing.head()"
   ]
  },
  {
   "cell_type": "code",
   "execution_count": null,
   "id": "eb8fdf3d",
   "metadata": {
    "execution": {
     "iopub.execute_input": "2021-10-11T17:23:05.143184Z",
     "iopub.status.busy": "2021-10-11T17:23:05.142871Z",
     "iopub.status.idle": "2021-10-11T17:23:05.169482Z",
     "shell.execute_reply": "2021-10-11T17:23:05.168717Z",
     "shell.execute_reply.started": "2021-10-11T17:23:05.143158Z"
    },
    "papermill": {
     "duration": null,
     "end_time": null,
     "exception": null,
     "start_time": null,
     "status": "pending"
    },
    "tags": []
   },
   "outputs": [],
   "source": [
    "median = housing[\"YearBuilt\"].median()\n",
    "housing[\"YearBuilt\"].fillna(median, inplace=True) \n",
    "housing.head()"
   ]
  },
  {
   "cell_type": "code",
   "execution_count": null,
   "id": "4f975c39",
   "metadata": {
    "execution": {
     "iopub.execute_input": "2021-10-11T17:23:05.170971Z",
     "iopub.status.busy": "2021-10-11T17:23:05.170771Z",
     "iopub.status.idle": "2021-10-11T17:23:05.179247Z",
     "shell.execute_reply": "2021-10-11T17:23:05.178472Z",
     "shell.execute_reply.started": "2021-10-11T17:23:05.170947Z"
    },
    "papermill": {
     "duration": null,
     "end_time": null,
     "exception": null,
     "start_time": null,
     "status": "pending"
    },
    "tags": []
   },
   "outputs": [],
   "source": [
    "from sklearn.impute import SimpleImputer\n",
    "imputer = SimpleImputer(strategy=\"median\")"
   ]
  },
  {
   "cell_type": "markdown",
   "id": "1b60f665",
   "metadata": {
    "papermill": {
     "duration": null,
     "end_time": null,
     "exception": null,
     "start_time": null,
     "status": "pending"
    },
    "tags": []
   },
   "source": [
    "Remove the text attribute because median can only be calculated on numerical attributes:"
   ]
  },
  {
   "cell_type": "code",
   "execution_count": null,
   "id": "21f930cb",
   "metadata": {
    "execution": {
     "iopub.execute_input": "2021-10-11T17:23:05.181225Z",
     "iopub.status.busy": "2021-10-11T17:23:05.180663Z",
     "iopub.status.idle": "2021-10-11T17:23:05.19269Z",
     "shell.execute_reply": "2021-10-11T17:23:05.191846Z",
     "shell.execute_reply.started": "2021-10-11T17:23:05.181182Z"
    },
    "papermill": {
     "duration": null,
     "end_time": null,
     "exception": null,
     "start_time": null,
     "status": "pending"
    },
    "tags": []
   },
   "outputs": [],
   "source": [
    "housing_num = housing.select_dtypes(include=[np.number])"
   ]
  },
  {
   "cell_type": "code",
   "execution_count": null,
   "id": "4d9100c4",
   "metadata": {
    "execution": {
     "iopub.execute_input": "2021-10-11T17:23:05.194129Z",
     "iopub.status.busy": "2021-10-11T17:23:05.193861Z",
     "iopub.status.idle": "2021-10-11T17:23:05.21285Z",
     "shell.execute_reply": "2021-10-11T17:23:05.212047Z",
     "shell.execute_reply.started": "2021-10-11T17:23:05.194098Z"
    },
    "papermill": {
     "duration": null,
     "end_time": null,
     "exception": null,
     "start_time": null,
     "status": "pending"
    },
    "tags": []
   },
   "outputs": [],
   "source": [
    "imputer.fit(housing_num)\n",
    "imputer.statistics_"
   ]
  },
  {
   "cell_type": "markdown",
   "id": "0a829a59",
   "metadata": {
    "papermill": {
     "duration": null,
     "end_time": null,
     "exception": null,
     "start_time": null,
     "status": "pending"
    },
    "tags": []
   },
   "source": [
    "Check that this is the same as manually computing the median of each attribute:"
   ]
  },
  {
   "cell_type": "code",
   "execution_count": null,
   "id": "11dfc798",
   "metadata": {
    "execution": {
     "iopub.execute_input": "2021-10-11T17:23:05.214477Z",
     "iopub.status.busy": "2021-10-11T17:23:05.21427Z",
     "iopub.status.idle": "2021-10-11T17:23:05.221553Z",
     "shell.execute_reply": "2021-10-11T17:23:05.220694Z",
     "shell.execute_reply.started": "2021-10-11T17:23:05.214451Z"
    },
    "papermill": {
     "duration": null,
     "end_time": null,
     "exception": null,
     "start_time": null,
     "status": "pending"
    },
    "tags": []
   },
   "outputs": [],
   "source": [
    "housing_num.median().values"
   ]
  },
  {
   "cell_type": "markdown",
   "id": "6c70ec18",
   "metadata": {
    "papermill": {
     "duration": null,
     "end_time": null,
     "exception": null,
     "start_time": null,
     "status": "pending"
    },
    "tags": []
   },
   "source": [
    "Transform the training set:\n",
    "\n"
   ]
  },
  {
   "cell_type": "code",
   "execution_count": null,
   "id": "1b47d0eb",
   "metadata": {
    "execution": {
     "iopub.execute_input": "2021-10-11T17:23:05.222997Z",
     "iopub.status.busy": "2021-10-11T17:23:05.222791Z",
     "iopub.status.idle": "2021-10-11T17:23:05.230424Z",
     "shell.execute_reply": "2021-10-11T17:23:05.229706Z",
     "shell.execute_reply.started": "2021-10-11T17:23:05.222973Z"
    },
    "papermill": {
     "duration": null,
     "end_time": null,
     "exception": null,
     "start_time": null,
     "status": "pending"
    },
    "tags": []
   },
   "outputs": [],
   "source": [
    "X = imputer.transform(housing_num)"
   ]
  },
  {
   "cell_type": "code",
   "execution_count": null,
   "id": "0dc1cbc0",
   "metadata": {
    "execution": {
     "iopub.execute_input": "2021-10-11T17:23:05.231765Z",
     "iopub.status.busy": "2021-10-11T17:23:05.231528Z",
     "iopub.status.idle": "2021-10-11T17:23:05.240172Z",
     "shell.execute_reply": "2021-10-11T17:23:05.239491Z",
     "shell.execute_reply.started": "2021-10-11T17:23:05.231725Z"
    },
    "papermill": {
     "duration": null,
     "end_time": null,
     "exception": null,
     "start_time": null,
     "status": "pending"
    },
    "tags": []
   },
   "outputs": [],
   "source": [
    "housing_tr = pd.DataFrame(X, columns=housing_num.columns,\n",
    "                          index=housing.index)"
   ]
  },
  {
   "cell_type": "code",
   "execution_count": null,
   "id": "ce6ed536",
   "metadata": {
    "execution": {
     "iopub.execute_input": "2021-10-11T17:23:05.243306Z",
     "iopub.status.busy": "2021-10-11T17:23:05.243084Z",
     "iopub.status.idle": "2021-10-11T17:23:05.273599Z",
     "shell.execute_reply": "2021-10-11T17:23:05.272901Z",
     "shell.execute_reply.started": "2021-10-11T17:23:05.243281Z"
    },
    "papermill": {
     "duration": null,
     "end_time": null,
     "exception": null,
     "start_time": null,
     "status": "pending"
    },
    "tags": []
   },
   "outputs": [],
   "source": [
    "housing_tr.loc[sample_incomplete_rows.index.values]\n"
   ]
  },
  {
   "cell_type": "code",
   "execution_count": null,
   "id": "a13a761f",
   "metadata": {
    "execution": {
     "iopub.execute_input": "2021-10-11T17:23:05.275162Z",
     "iopub.status.busy": "2021-10-11T17:23:05.274935Z",
     "iopub.status.idle": "2021-10-11T17:23:05.280268Z",
     "shell.execute_reply": "2021-10-11T17:23:05.279703Z",
     "shell.execute_reply.started": "2021-10-11T17:23:05.275134Z"
    },
    "papermill": {
     "duration": null,
     "end_time": null,
     "exception": null,
     "start_time": null,
     "status": "pending"
    },
    "tags": []
   },
   "outputs": [],
   "source": [
    "imputer.strategy\n"
   ]
  },
  {
   "cell_type": "code",
   "execution_count": null,
   "id": "048d9fec",
   "metadata": {
    "execution": {
     "iopub.execute_input": "2021-10-11T17:23:05.281773Z",
     "iopub.status.busy": "2021-10-11T17:23:05.281372Z",
     "iopub.status.idle": "2021-10-11T17:23:05.290308Z",
     "shell.execute_reply": "2021-10-11T17:23:05.28979Z",
     "shell.execute_reply.started": "2021-10-11T17:23:05.281704Z"
    },
    "papermill": {
     "duration": null,
     "end_time": null,
     "exception": null,
     "start_time": null,
     "status": "pending"
    },
    "tags": []
   },
   "outputs": [],
   "source": [
    "housing_tr = pd.DataFrame(X, columns=housing_num.columns,\n",
    "                          index=housing_num.index)"
   ]
  },
  {
   "cell_type": "code",
   "execution_count": null,
   "id": "da1d1a9c",
   "metadata": {
    "execution": {
     "iopub.execute_input": "2021-10-11T17:23:05.291868Z",
     "iopub.status.busy": "2021-10-11T17:23:05.291165Z",
     "iopub.status.idle": "2021-10-11T17:23:05.321459Z",
     "shell.execute_reply": "2021-10-11T17:23:05.320607Z",
     "shell.execute_reply.started": "2021-10-11T17:23:05.291822Z"
    },
    "papermill": {
     "duration": null,
     "end_time": null,
     "exception": null,
     "start_time": null,
     "status": "pending"
    },
    "tags": []
   },
   "outputs": [],
   "source": [
    "housing_tr.head()"
   ]
  },
  {
   "cell_type": "markdown",
   "id": "fd54aee1",
   "metadata": {
    "papermill": {
     "duration": null,
     "end_time": null,
     "exception": null,
     "start_time": null,
     "status": "pending"
    },
    "tags": []
   },
   "source": [
    "### Categorical data\n",
    "\n",
    "Now let's preprocess the categorical input feature, CouncilArea:"
   ]
  },
  {
   "cell_type": "code",
   "execution_count": null,
   "id": "329ab759",
   "metadata": {
    "execution": {
     "iopub.execute_input": "2021-10-11T17:23:05.323331Z",
     "iopub.status.busy": "2021-10-11T17:23:05.322809Z",
     "iopub.status.idle": "2021-10-11T17:23:05.341262Z",
     "shell.execute_reply": "2021-10-11T17:23:05.340244Z",
     "shell.execute_reply.started": "2021-10-11T17:23:05.323286Z"
    },
    "papermill": {
     "duration": null,
     "end_time": null,
     "exception": null,
     "start_time": null,
     "status": "pending"
    },
    "tags": []
   },
   "outputs": [],
   "source": [
    "housing_cat = housing[[\"CouncilArea\"]]\n",
    "# There is missing values in this category, we will create a new cateogry for those.\n",
    "housing_cat.fillna('Unknown').head(10)"
   ]
  },
  {
   "cell_type": "code",
   "execution_count": null,
   "id": "4d3f6c9d",
   "metadata": {
    "execution": {
     "iopub.execute_input": "2021-10-11T17:23:05.342712Z",
     "iopub.status.busy": "2021-10-11T17:23:05.342461Z",
     "iopub.status.idle": "2021-10-11T17:23:05.352338Z",
     "shell.execute_reply": "2021-10-11T17:23:05.351814Z",
     "shell.execute_reply.started": "2021-10-11T17:23:05.342686Z"
    },
    "papermill": {
     "duration": null,
     "end_time": null,
     "exception": null,
     "start_time": null,
     "status": "pending"
    },
    "tags": []
   },
   "outputs": [],
   "source": [
    "from sklearn.preprocessing import OrdinalEncoder\n",
    "\n",
    "ordinal_encoder = OrdinalEncoder()\n",
    "housing_cat_encoded = ordinal_encoder.fit_transform(housing_cat.fillna('Unknown'))\n",
    "housing_cat_encoded[:10]"
   ]
  },
  {
   "cell_type": "code",
   "execution_count": null,
   "id": "627f2065",
   "metadata": {
    "execution": {
     "iopub.execute_input": "2021-10-11T17:23:05.353773Z",
     "iopub.status.busy": "2021-10-11T17:23:05.353383Z",
     "iopub.status.idle": "2021-10-11T17:23:05.366646Z",
     "shell.execute_reply": "2021-10-11T17:23:05.365853Z",
     "shell.execute_reply.started": "2021-10-11T17:23:05.353735Z"
    },
    "papermill": {
     "duration": null,
     "end_time": null,
     "exception": null,
     "start_time": null,
     "status": "pending"
    },
    "tags": []
   },
   "outputs": [],
   "source": [
    "ordinal_encoder.categories_"
   ]
  },
  {
   "cell_type": "code",
   "execution_count": null,
   "id": "5f8f969e",
   "metadata": {
    "execution": {
     "iopub.execute_input": "2021-10-11T17:23:05.36879Z",
     "iopub.status.busy": "2021-10-11T17:23:05.368029Z",
     "iopub.status.idle": "2021-10-11T17:23:05.384077Z",
     "shell.execute_reply": "2021-10-11T17:23:05.383245Z",
     "shell.execute_reply.started": "2021-10-11T17:23:05.368732Z"
    },
    "papermill": {
     "duration": null,
     "end_time": null,
     "exception": null,
     "start_time": null,
     "status": "pending"
    },
    "tags": []
   },
   "outputs": [],
   "source": [
    "from sklearn.preprocessing import OneHotEncoder\n",
    "\n",
    "cat_encoder = OneHotEncoder(handle_unknown='ignore')\n",
    "housing_cat_1hot = cat_encoder.fit_transform(housing_cat.fillna('Unknown'))\n",
    "housing_cat_1hot"
   ]
  },
  {
   "cell_type": "code",
   "execution_count": null,
   "id": "94a79b3e",
   "metadata": {
    "execution": {
     "iopub.execute_input": "2021-10-11T17:23:05.386284Z",
     "iopub.status.busy": "2021-10-11T17:23:05.385279Z",
     "iopub.status.idle": "2021-10-11T17:23:05.395033Z",
     "shell.execute_reply": "2021-10-11T17:23:05.394187Z",
     "shell.execute_reply.started": "2021-10-11T17:23:05.386241Z"
    },
    "papermill": {
     "duration": null,
     "end_time": null,
     "exception": null,
     "start_time": null,
     "status": "pending"
    },
    "tags": []
   },
   "outputs": [],
   "source": [
    "housing_cat_1hot.toarray()"
   ]
  },
  {
   "cell_type": "markdown",
   "id": "4a861f2b",
   "metadata": {
    "papermill": {
     "duration": null,
     "end_time": null,
     "exception": null,
     "start_time": null,
     "status": "pending"
    },
    "tags": []
   },
   "source": [
    "Alternatively, you can set sparse=False when creating the OneHotEncoder:"
   ]
  },
  {
   "cell_type": "code",
   "execution_count": null,
   "id": "7670e1b7",
   "metadata": {
    "execution": {
     "iopub.execute_input": "2021-10-11T17:23:05.396858Z",
     "iopub.status.busy": "2021-10-11T17:23:05.39633Z",
     "iopub.status.idle": "2021-10-11T17:23:05.412541Z",
     "shell.execute_reply": "2021-10-11T17:23:05.411757Z",
     "shell.execute_reply.started": "2021-10-11T17:23:05.396816Z"
    },
    "papermill": {
     "duration": null,
     "end_time": null,
     "exception": null,
     "start_time": null,
     "status": "pending"
    },
    "tags": []
   },
   "outputs": [],
   "source": [
    "cat_encoder = OneHotEncoder(sparse=False,handle_unknown='ignore')\n",
    "housing_cat_1hot = cat_encoder.fit_transform(housing_cat.fillna('Unknown'))\n",
    "housing_cat_1hot"
   ]
  },
  {
   "cell_type": "code",
   "execution_count": null,
   "id": "7fab3fc7",
   "metadata": {
    "execution": {
     "iopub.execute_input": "2021-10-11T17:23:05.414287Z",
     "iopub.status.busy": "2021-10-11T17:23:05.413681Z",
     "iopub.status.idle": "2021-10-11T17:23:05.419348Z",
     "shell.execute_reply": "2021-10-11T17:23:05.418816Z",
     "shell.execute_reply.started": "2021-10-11T17:23:05.414253Z"
    },
    "papermill": {
     "duration": null,
     "end_time": null,
     "exception": null,
     "start_time": null,
     "status": "pending"
    },
    "tags": []
   },
   "outputs": [],
   "source": [
    "cat_encoder.categories_"
   ]
  },
  {
   "cell_type": "markdown",
   "id": "46a41940",
   "metadata": {
    "papermill": {
     "duration": null,
     "end_time": null,
     "exception": null,
     "start_time": null,
     "status": "pending"
    },
    "tags": []
   },
   "source": [
    "Let's create a custom transformer to add extra attributes:\n"
   ]
  },
  {
   "cell_type": "code",
   "execution_count": null,
   "id": "bb72a9db",
   "metadata": {
    "execution": {
     "iopub.execute_input": "2021-10-11T17:23:05.420806Z",
     "iopub.status.busy": "2021-10-11T17:23:05.42042Z",
     "iopub.status.idle": "2021-10-11T17:23:05.431867Z",
     "shell.execute_reply": "2021-10-11T17:23:05.430994Z",
     "shell.execute_reply.started": "2021-10-11T17:23:05.420764Z"
    },
    "papermill": {
     "duration": null,
     "end_time": null,
     "exception": null,
     "start_time": null,
     "status": "pending"
    },
    "tags": []
   },
   "outputs": [],
   "source": [
    "from sklearn.base import BaseEstimator, TransformerMixin\n",
    "\n",
    "# column index\n",
    "Rooms_ix, Bedroom2_ix, Bathroom_ix, BuildingArea_ix = 0, 2, 3, 6\n",
    "\n",
    "class CombinedAttributesAdder(BaseEstimator, TransformerMixin):\n",
    "    def __init__(self, add_bedrooms_per_room = True): # no *args or **kargs\n",
    "        self.add_bedrooms_per_room = add_bedrooms_per_room\n",
    "        \n",
    "    def fit(self, X, y=None):\n",
    "        return self  # nothing else to do\n",
    "    \n",
    "    def transform(self, X):\n",
    "        rooms_per_building_area = X[:, Rooms_ix] / (1.0 +X[:, BuildingArea_ix])# add 1 to avoid 0 division\n",
    "        if self.add_bedrooms_per_room:\n",
    "            bedrooms_per_room = X[:, Bedroom2_ix] / (1.0 + X[:, Bathroom_ix]) # add 1 to avoid 0 division\n",
    "            return np.c_[X, rooms_per_building_area, bedrooms_per_room]\n",
    "        else:\n",
    "            return np.c_[X, rooms_per_building_area]\n",
    "        \n",
    "\n",
    "attr_adder = CombinedAttributesAdder(add_bedrooms_per_room=True)\n",
    "housing_extra_attribs = attr_adder.transform(housing_num.values)"
   ]
  },
  {
   "cell_type": "code",
   "execution_count": null,
   "id": "cbc2664a",
   "metadata": {
    "execution": {
     "iopub.execute_input": "2021-10-11T17:23:05.433541Z",
     "iopub.status.busy": "2021-10-11T17:23:05.433167Z",
     "iopub.status.idle": "2021-10-11T17:23:05.459924Z",
     "shell.execute_reply": "2021-10-11T17:23:05.459066Z",
     "shell.execute_reply.started": "2021-10-11T17:23:05.433502Z"
    },
    "papermill": {
     "duration": null,
     "end_time": null,
     "exception": null,
     "start_time": null,
     "status": "pending"
    },
    "tags": []
   },
   "outputs": [],
   "source": [
    "housing_extra_attribs = pd.DataFrame(\n",
    "    housing_extra_attribs,\n",
    "    columns=list(housing_num.columns)+[\"rooms_per_building_area\", \"bedrooms_per_room\"],\n",
    "    index=housing.index)\n",
    "housing_extra_attribs.head()"
   ]
  },
  {
   "cell_type": "markdown",
   "id": "9e3cacbd",
   "metadata": {
    "papermill": {
     "duration": null,
     "end_time": null,
     "exception": null,
     "start_time": null,
     "status": "pending"
    },
    "tags": []
   },
   "source": [
    "Now let's build a pipeline for preprocessing the numerical attributes:"
   ]
  },
  {
   "cell_type": "code",
   "execution_count": null,
   "id": "42217b99",
   "metadata": {
    "execution": {
     "iopub.execute_input": "2021-10-11T17:23:05.461492Z",
     "iopub.status.busy": "2021-10-11T17:23:05.461228Z",
     "iopub.status.idle": "2021-10-11T17:23:05.81337Z",
     "shell.execute_reply": "2021-10-11T17:23:05.812678Z",
     "shell.execute_reply.started": "2021-10-11T17:23:05.461463Z"
    },
    "papermill": {
     "duration": null,
     "end_time": null,
     "exception": null,
     "start_time": null,
     "status": "pending"
    },
    "tags": []
   },
   "outputs": [],
   "source": [
    "from sklearn.pipeline import Pipeline\n",
    "from sklearn.preprocessing import StandardScaler\n",
    "from sklearn.preprocessing import FunctionTransformer\n",
    "\n",
    "\n",
    "## create a function to replace 0 by NaN\n",
    "def replace_0_2_NaN(data):\n",
    "    data[data == 0] = np.nan\n",
    "    return data\n",
    "\n",
    "\n",
    "num0_pipeline = Pipeline([\n",
    "        ('zeros2NaN',FunctionTransformer(func = replace_0_2_NaN,validate=False)),\n",
    "        ('imputer', SimpleImputer(strategy=\"median\")),\n",
    "        ('log',FunctionTransformer(np.log1p, validate=True)),\n",
    "        ('std_scaler', StandardScaler()),\n",
    "    ])\n",
    "\n",
    "housing_num_tr = num0_pipeline.fit_transform(housing[['BuildingArea','Landsize']])\n",
    "plt.hist(housing_num_tr,bins=20)\n",
    "plt.show()"
   ]
  },
  {
   "cell_type": "code",
   "execution_count": null,
   "id": "201a54f6",
   "metadata": {
    "execution": {
     "iopub.execute_input": "2021-10-11T17:23:05.814612Z",
     "iopub.status.busy": "2021-10-11T17:23:05.8144Z",
     "iopub.status.idle": "2021-10-11T17:23:05.830786Z",
     "shell.execute_reply": "2021-10-11T17:23:05.829654Z",
     "shell.execute_reply.started": "2021-10-11T17:23:05.814587Z"
    },
    "papermill": {
     "duration": null,
     "end_time": null,
     "exception": null,
     "start_time": null,
     "status": "pending"
    },
    "tags": []
   },
   "outputs": [],
   "source": [
    "num_pipeline = Pipeline([\n",
    "        ('imputer', SimpleImputer(strategy=\"median\")),\n",
    "        ('attribs_adder', CombinedAttributesAdder()),\n",
    "        ('std_scaler', StandardScaler()),\n",
    "    ])\n",
    "\n",
    "housing_num_tr = num_pipeline.fit_transform(housing_num)"
   ]
  },
  {
   "cell_type": "code",
   "execution_count": null,
   "id": "b79fbfb2",
   "metadata": {
    "execution": {
     "iopub.execute_input": "2021-10-11T17:23:05.832267Z",
     "iopub.status.busy": "2021-10-11T17:23:05.831967Z",
     "iopub.status.idle": "2021-10-11T17:23:05.83844Z",
     "shell.execute_reply": "2021-10-11T17:23:05.837606Z",
     "shell.execute_reply.started": "2021-10-11T17:23:05.832235Z"
    },
    "papermill": {
     "duration": null,
     "end_time": null,
     "exception": null,
     "start_time": null,
     "status": "pending"
    },
    "tags": []
   },
   "outputs": [],
   "source": [
    "housing_num_tr"
   ]
  },
  {
   "cell_type": "code",
   "execution_count": null,
   "id": "071ef635",
   "metadata": {
    "execution": {
     "iopub.execute_input": "2021-10-11T17:23:05.839911Z",
     "iopub.status.busy": "2021-10-11T17:23:05.839655Z",
     "iopub.status.idle": "2021-10-11T17:23:05.848278Z",
     "shell.execute_reply": "2021-10-11T17:23:05.847756Z",
     "shell.execute_reply.started": "2021-10-11T17:23:05.839883Z"
    },
    "papermill": {
     "duration": null,
     "end_time": null,
     "exception": null,
     "start_time": null,
     "status": "pending"
    },
    "tags": []
   },
   "outputs": [],
   "source": [
    "cat_pipeline = Pipeline([\n",
    "        ('imputer', SimpleImputer(strategy=\"constant\",fill_value='Unknown')),\n",
    "        ('one_hot_encoder', OneHotEncoder(handle_unknown='ignore')),\n",
    "    ])"
   ]
  },
  {
   "cell_type": "code",
   "execution_count": null,
   "id": "f390082a",
   "metadata": {
    "execution": {
     "iopub.execute_input": "2021-10-11T17:23:05.849725Z",
     "iopub.status.busy": "2021-10-11T17:23:05.849326Z",
     "iopub.status.idle": "2021-10-11T17:23:05.910897Z",
     "shell.execute_reply": "2021-10-11T17:23:05.91007Z",
     "shell.execute_reply.started": "2021-10-11T17:23:05.849694Z"
    },
    "papermill": {
     "duration": null,
     "end_time": null,
     "exception": null,
     "start_time": null,
     "status": "pending"
    },
    "tags": []
   },
   "outputs": [],
   "source": [
    "from sklearn.compose import ColumnTransformer\n",
    "\n",
    "num_attribs0 = ['Landsize','BuildingArea']\n",
    "num_attribs1 = list(housing_num)\n",
    "cat_attribs = [\"CouncilArea\",'Type','Suburb','Postcode']\n",
    "\n",
    "\n",
    "full_pipeline = ColumnTransformer([\n",
    "        (\"num0\", num0_pipeline, num_attribs0),\n",
    "        (\"num1\", num_pipeline, num_attribs1),\n",
    "        (\"cat\", cat_pipeline, cat_attribs),\n",
    "    ])\n",
    "\n",
    "housing_prepared = full_pipeline.fit_transform(housing)\n",
    "\n",
    "housing_prepared"
   ]
  },
  {
   "cell_type": "markdown",
   "id": "7356b6be",
   "metadata": {
    "papermill": {
     "duration": null,
     "end_time": null,
     "exception": null,
     "start_time": null,
     "status": "pending"
    },
    "tags": []
   },
   "source": [
    "## Select and train a model\n"
   ]
  },
  {
   "cell_type": "code",
   "execution_count": null,
   "id": "7bc0f2b1",
   "metadata": {
    "execution": {
     "iopub.execute_input": "2021-10-11T17:23:05.912841Z",
     "iopub.status.busy": "2021-10-11T17:23:05.912029Z",
     "iopub.status.idle": "2021-10-11T17:23:06.151451Z",
     "shell.execute_reply": "2021-10-11T17:23:06.150465Z",
     "shell.execute_reply.started": "2021-10-11T17:23:05.912801Z"
    },
    "papermill": {
     "duration": null,
     "end_time": null,
     "exception": null,
     "start_time": null,
     "status": "pending"
    },
    "tags": []
   },
   "outputs": [],
   "source": [
    "from sklearn.linear_model import LinearRegression\n",
    "\n",
    "lin_reg = LinearRegression()\n",
    "lin_reg.fit(housing_prepared, housing_labels)"
   ]
  },
  {
   "cell_type": "code",
   "execution_count": null,
   "id": "936188d9",
   "metadata": {
    "execution": {
     "iopub.execute_input": "2021-10-11T17:23:06.152624Z",
     "iopub.status.busy": "2021-10-11T17:23:06.152414Z",
     "iopub.status.idle": "2021-10-11T17:23:06.172634Z",
     "shell.execute_reply": "2021-10-11T17:23:06.171627Z",
     "shell.execute_reply.started": "2021-10-11T17:23:06.152599Z"
    },
    "papermill": {
     "duration": null,
     "end_time": null,
     "exception": null,
     "start_time": null,
     "status": "pending"
    },
    "tags": []
   },
   "outputs": [],
   "source": [
    "# let's try the full preprocessing pipeline on a few training instances\n",
    "some_data = housing.iloc[:25]\n",
    "some_labels = housing_labels.iloc[:25]\n",
    "some_data_prepared = full_pipeline.transform(some_data)\n",
    "\n",
    "print(\"Predictions:\", lin_reg.predict(some_data_prepared))"
   ]
  },
  {
   "cell_type": "markdown",
   "id": "40350863",
   "metadata": {
    "papermill": {
     "duration": null,
     "end_time": null,
     "exception": null,
     "start_time": null,
     "status": "pending"
    },
    "tags": []
   },
   "source": [
    "Compare against the actual values:"
   ]
  },
  {
   "cell_type": "code",
   "execution_count": null,
   "id": "d53e2f67",
   "metadata": {
    "execution": {
     "iopub.execute_input": "2021-10-11T17:23:06.174095Z",
     "iopub.status.busy": "2021-10-11T17:23:06.173866Z",
     "iopub.status.idle": "2021-10-11T17:23:06.183624Z",
     "shell.execute_reply": "2021-10-11T17:23:06.182643Z",
     "shell.execute_reply.started": "2021-10-11T17:23:06.174068Z"
    },
    "papermill": {
     "duration": null,
     "end_time": null,
     "exception": null,
     "start_time": null,
     "status": "pending"
    },
    "tags": []
   },
   "outputs": [],
   "source": [
    "print(\"Labels:\", list(some_labels))\n"
   ]
  },
  {
   "cell_type": "code",
   "execution_count": null,
   "id": "d7b2aefd",
   "metadata": {
    "execution": {
     "iopub.execute_input": "2021-10-11T17:23:06.185257Z",
     "iopub.status.busy": "2021-10-11T17:23:06.184858Z",
     "iopub.status.idle": "2021-10-11T17:23:06.535275Z",
     "shell.execute_reply": "2021-10-11T17:23:06.534536Z",
     "shell.execute_reply.started": "2021-10-11T17:23:06.185225Z"
    },
    "papermill": {
     "duration": null,
     "end_time": null,
     "exception": null,
     "start_time": null,
     "status": "pending"
    },
    "tags": []
   },
   "outputs": [],
   "source": [
    "plt.scatter(lin_reg.predict(some_data_prepared),list(some_labels))"
   ]
  },
  {
   "cell_type": "code",
   "execution_count": null,
   "id": "a4379ee2",
   "metadata": {
    "execution": {
     "iopub.execute_input": "2021-10-11T17:23:06.536566Z",
     "iopub.status.busy": "2021-10-11T17:23:06.536341Z",
     "iopub.status.idle": "2021-10-11T17:23:06.542859Z",
     "shell.execute_reply": "2021-10-11T17:23:06.541881Z",
     "shell.execute_reply.started": "2021-10-11T17:23:06.536539Z"
    },
    "papermill": {
     "duration": null,
     "end_time": null,
     "exception": null,
     "start_time": null,
     "status": "pending"
    },
    "tags": []
   },
   "outputs": [],
   "source": [
    "some_data_prepared\n"
   ]
  },
  {
   "cell_type": "code",
   "execution_count": null,
   "id": "c68497ae",
   "metadata": {
    "execution": {
     "iopub.execute_input": "2021-10-11T17:23:06.544316Z",
     "iopub.status.busy": "2021-10-11T17:23:06.544082Z",
     "iopub.status.idle": "2021-10-11T17:23:06.556789Z",
     "shell.execute_reply": "2021-10-11T17:23:06.556011Z",
     "shell.execute_reply.started": "2021-10-11T17:23:06.544289Z"
    },
    "papermill": {
     "duration": null,
     "end_time": null,
     "exception": null,
     "start_time": null,
     "status": "pending"
    },
    "tags": []
   },
   "outputs": [],
   "source": [
    "from sklearn.metrics import mean_squared_error\n",
    "\n",
    "housing_predictions = lin_reg.predict(housing_prepared)\n",
    "lin_mse = mean_squared_error(housing_labels, housing_predictions)\n",
    "lin_rmse = np.sqrt(lin_mse)\n",
    "lin_rmse"
   ]
  },
  {
   "cell_type": "code",
   "execution_count": null,
   "id": "a3670539",
   "metadata": {
    "execution": {
     "iopub.execute_input": "2021-10-11T17:23:06.558308Z",
     "iopub.status.busy": "2021-10-11T17:23:06.558085Z",
     "iopub.status.idle": "2021-10-11T17:23:06.567473Z",
     "shell.execute_reply": "2021-10-11T17:23:06.566715Z",
     "shell.execute_reply.started": "2021-10-11T17:23:06.558283Z"
    },
    "papermill": {
     "duration": null,
     "end_time": null,
     "exception": null,
     "start_time": null,
     "status": "pending"
    },
    "tags": []
   },
   "outputs": [],
   "source": [
    "from sklearn.metrics import mean_absolute_error\n",
    "\n",
    "lin_mae = mean_absolute_error(housing_labels, housing_predictions)\n",
    "lin_mae"
   ]
  },
  {
   "cell_type": "code",
   "execution_count": null,
   "id": "68aa21fe",
   "metadata": {
    "execution": {
     "iopub.execute_input": "2021-10-11T17:23:06.568995Z",
     "iopub.status.busy": "2021-10-11T17:23:06.568787Z",
     "iopub.status.idle": "2021-10-11T17:23:06.582625Z",
     "shell.execute_reply": "2021-10-11T17:23:06.58165Z",
     "shell.execute_reply.started": "2021-10-11T17:23:06.568971Z"
    },
    "papermill": {
     "duration": null,
     "end_time": null,
     "exception": null,
     "start_time": null,
     "status": "pending"
    },
    "tags": []
   },
   "outputs": [],
   "source": [
    "## K-Nearest Neighbour\n",
    "from sklearn import neighbors\n",
    "\n",
    "n_neighbors = 3\n",
    "knn_reg = neighbors.KNeighborsRegressor(n_neighbors)\n",
    "knn_reg.fit(housing_prepared, housing_labels)"
   ]
  },
  {
   "cell_type": "code",
   "execution_count": null,
   "id": "e8c58f8e",
   "metadata": {
    "execution": {
     "iopub.execute_input": "2021-10-11T17:23:06.58385Z",
     "iopub.status.busy": "2021-10-11T17:23:06.583616Z",
     "iopub.status.idle": "2021-10-11T17:23:08.077401Z",
     "shell.execute_reply": "2021-10-11T17:23:08.076538Z",
     "shell.execute_reply.started": "2021-10-11T17:23:06.583823Z"
    },
    "papermill": {
     "duration": null,
     "end_time": null,
     "exception": null,
     "start_time": null,
     "status": "pending"
    },
    "tags": []
   },
   "outputs": [],
   "source": [
    "housing_predictions = knn_reg.predict(housing_prepared)\n",
    "knn_mse = mean_squared_error(housing_labels, housing_predictions)\n",
    "knn_rmse = np.sqrt(knn_mse)\n",
    "knn_rmse\n"
   ]
  },
  {
   "cell_type": "code",
   "execution_count": null,
   "id": "bbb4f81c",
   "metadata": {
    "execution": {
     "iopub.execute_input": "2021-10-11T17:23:08.078945Z",
     "iopub.status.busy": "2021-10-11T17:23:08.078703Z",
     "iopub.status.idle": "2021-10-11T17:23:08.427251Z",
     "shell.execute_reply": "2021-10-11T17:23:08.426166Z",
     "shell.execute_reply.started": "2021-10-11T17:23:08.078918Z"
    },
    "papermill": {
     "duration": null,
     "end_time": null,
     "exception": null,
     "start_time": null,
     "status": "pending"
    },
    "tags": []
   },
   "outputs": [],
   "source": [
    "## Decision Tree\n",
    "from sklearn.tree import DecisionTreeRegressor\n",
    "\n",
    "tree_reg = DecisionTreeRegressor(random_state=42)\n",
    "tree_reg.fit(housing_prepared, housing_labels)"
   ]
  },
  {
   "cell_type": "code",
   "execution_count": null,
   "id": "a82e1e54",
   "metadata": {
    "execution": {
     "iopub.execute_input": "2021-10-11T17:23:08.429037Z",
     "iopub.status.busy": "2021-10-11T17:23:08.42869Z",
     "iopub.status.idle": "2021-10-11T17:23:08.440426Z",
     "shell.execute_reply": "2021-10-11T17:23:08.43954Z",
     "shell.execute_reply.started": "2021-10-11T17:23:08.428994Z"
    },
    "papermill": {
     "duration": null,
     "end_time": null,
     "exception": null,
     "start_time": null,
     "status": "pending"
    },
    "tags": []
   },
   "outputs": [],
   "source": [
    "housing_predictions = tree_reg.predict(housing_prepared)\n",
    "tree_mse = mean_squared_error(housing_labels, housing_predictions)\n",
    "tree_rmse = np.sqrt(tree_mse)\n",
    "tree_rmse"
   ]
  },
  {
   "cell_type": "markdown",
   "id": "a7f03346",
   "metadata": {
    "papermill": {
     "duration": null,
     "end_time": null,
     "exception": null,
     "start_time": null,
     "status": "pending"
    },
    "tags": []
   },
   "source": [
    "## Fine-tune your model\n",
    "\n",
    "Find the best parameters for your model. In order to do so, we will use the 10-fold cross-validation"
   ]
  },
  {
   "cell_type": "code",
   "execution_count": null,
   "id": "d1c28425",
   "metadata": {
    "execution": {
     "iopub.execute_input": "2021-10-11T17:23:08.4418Z",
     "iopub.status.busy": "2021-10-11T17:23:08.441443Z",
     "iopub.status.idle": "2021-10-11T17:23:11.431622Z",
     "shell.execute_reply": "2021-10-11T17:23:11.430934Z",
     "shell.execute_reply.started": "2021-10-11T17:23:08.441762Z"
    },
    "papermill": {
     "duration": null,
     "end_time": null,
     "exception": null,
     "start_time": null,
     "status": "pending"
    },
    "tags": []
   },
   "outputs": [],
   "source": [
    "from sklearn.model_selection import cross_val_score\n",
    "\n",
    "scores = cross_val_score(tree_reg, housing_prepared, housing_labels,\n",
    "                         scoring=\"neg_root_mean_squared_error\", cv=10)\n"
   ]
  },
  {
   "cell_type": "code",
   "execution_count": null,
   "id": "5fffa759",
   "metadata": {
    "execution": {
     "iopub.execute_input": "2021-10-11T17:23:11.433076Z",
     "iopub.status.busy": "2021-10-11T17:23:11.43273Z",
     "iopub.status.idle": "2021-10-11T17:23:11.439346Z",
     "shell.execute_reply": "2021-10-11T17:23:11.438776Z",
     "shell.execute_reply.started": "2021-10-11T17:23:11.433049Z"
    },
    "papermill": {
     "duration": null,
     "end_time": null,
     "exception": null,
     "start_time": null,
     "status": "pending"
    },
    "tags": []
   },
   "outputs": [],
   "source": [
    "def display_scores(scores,model_name = None):\n",
    "    if(model_name):\n",
    "        print(\"----\",model_name,\"----\")\n",
    "    print(\"Mean:\", scores.mean())\n",
    "    print(\"Standard deviation:\", scores.std())\n",
    "\n",
    "display_scores(-scores,'Decision Tree')"
   ]
  },
  {
   "cell_type": "code",
   "execution_count": null,
   "id": "a8867fea",
   "metadata": {
    "execution": {
     "iopub.execute_input": "2021-10-11T17:23:11.440717Z",
     "iopub.status.busy": "2021-10-11T17:23:11.440384Z",
     "iopub.status.idle": "2021-10-11T17:23:13.706892Z",
     "shell.execute_reply": "2021-10-11T17:23:13.706166Z",
     "shell.execute_reply.started": "2021-10-11T17:23:11.44069Z"
    },
    "papermill": {
     "duration": null,
     "end_time": null,
     "exception": null,
     "start_time": null,
     "status": "pending"
    },
    "tags": []
   },
   "outputs": [],
   "source": [
    "lin_scores = cross_val_score(lin_reg, housing_prepared, housing_labels,\n",
    "                             scoring=\"neg_root_mean_squared_error\", cv=10)\n",
    "display_scores(-lin_scores,'Linear Regression')"
   ]
  },
  {
   "cell_type": "code",
   "execution_count": null,
   "id": "b0647bc3",
   "metadata": {
    "execution": {
     "iopub.execute_input": "2021-10-11T17:23:13.708629Z",
     "iopub.status.busy": "2021-10-11T17:23:13.70838Z",
     "iopub.status.idle": "2021-10-11T17:23:14.996514Z",
     "shell.execute_reply": "2021-10-11T17:23:14.995763Z",
     "shell.execute_reply.started": "2021-10-11T17:23:13.708599Z"
    },
    "papermill": {
     "duration": null,
     "end_time": null,
     "exception": null,
     "start_time": null,
     "status": "pending"
    },
    "tags": []
   },
   "outputs": [],
   "source": [
    "knn_scores = cross_val_score(knn_reg, housing_prepared, housing_labels,\n",
    "                             scoring=\"neg_root_mean_squared_error\", cv=10)\n",
    "display_scores(-knn_scores,'Knn Regression')"
   ]
  },
  {
   "cell_type": "code",
   "execution_count": null,
   "id": "53c32492",
   "metadata": {
    "execution": {
     "iopub.execute_input": "2021-10-11T17:23:14.997989Z",
     "iopub.status.busy": "2021-10-11T17:23:14.997643Z",
     "iopub.status.idle": "2021-10-11T17:23:19.606603Z",
     "shell.execute_reply": "2021-10-11T17:23:19.60575Z",
     "shell.execute_reply.started": "2021-10-11T17:23:14.997959Z"
    },
    "papermill": {
     "duration": null,
     "end_time": null,
     "exception": null,
     "start_time": null,
     "status": "pending"
    },
    "tags": []
   },
   "outputs": [],
   "source": [
    "## Let's try another model: Random Forest\n",
    "from sklearn.ensemble import RandomForestRegressor\n",
    "\n",
    "forest_reg = RandomForestRegressor(n_estimators=20, random_state=42)\n",
    "forest_reg.fit(housing_prepared, housing_labels)"
   ]
  },
  {
   "cell_type": "code",
   "execution_count": null,
   "id": "26c00181",
   "metadata": {
    "execution": {
     "iopub.execute_input": "2021-10-11T17:23:19.608184Z",
     "iopub.status.busy": "2021-10-11T17:23:19.607965Z",
     "iopub.status.idle": "2021-10-11T17:23:19.636783Z",
     "shell.execute_reply": "2021-10-11T17:23:19.63591Z",
     "shell.execute_reply.started": "2021-10-11T17:23:19.608157Z"
    },
    "papermill": {
     "duration": null,
     "end_time": null,
     "exception": null,
     "start_time": null,
     "status": "pending"
    },
    "tags": []
   },
   "outputs": [],
   "source": [
    "housing_predictions = forest_reg.predict(housing_prepared)\n",
    "forest_mse = mean_squared_error(housing_labels, housing_predictions)\n",
    "forest_rmse = np.sqrt(forest_mse)\n",
    "forest_rmse"
   ]
  },
  {
   "cell_type": "code",
   "execution_count": null,
   "id": "be78344f",
   "metadata": {
    "execution": {
     "iopub.execute_input": "2021-10-11T17:23:19.638283Z",
     "iopub.status.busy": "2021-10-11T17:23:19.638065Z",
     "iopub.status.idle": "2021-10-11T17:23:58.09422Z",
     "shell.execute_reply": "2021-10-11T17:23:58.093315Z",
     "shell.execute_reply.started": "2021-10-11T17:23:19.638255Z"
    },
    "papermill": {
     "duration": null,
     "end_time": null,
     "exception": null,
     "start_time": null,
     "status": "pending"
    },
    "tags": []
   },
   "outputs": [],
   "source": [
    "forest_scores = cross_val_score(forest_reg, housing_prepared, housing_labels,\n",
    "                                scoring=\"neg_root_mean_squared_error\", cv=10)\n",
    "display_scores(-forest_scores, 'Random Forest')"
   ]
  },
  {
   "cell_type": "code",
   "execution_count": null,
   "id": "308963ee",
   "metadata": {
    "execution": {
     "iopub.execute_input": "2021-10-11T17:23:58.096108Z",
     "iopub.status.busy": "2021-10-11T17:23:58.095807Z",
     "iopub.status.idle": "2021-10-11T17:24:00.338114Z",
     "shell.execute_reply": "2021-10-11T17:24:00.337199Z",
     "shell.execute_reply.started": "2021-10-11T17:23:58.096068Z"
    },
    "papermill": {
     "duration": null,
     "end_time": null,
     "exception": null,
     "start_time": null,
     "status": "pending"
    },
    "tags": []
   },
   "outputs": [],
   "source": [
    "scores = cross_val_score(lin_reg, housing_prepared, housing_labels, scoring=\"neg_root_mean_squared_error\", cv=10)\n",
    "results = pd.Series(-scores)"
   ]
  },
  {
   "cell_type": "code",
   "execution_count": null,
   "id": "44b98981",
   "metadata": {
    "execution": {
     "iopub.execute_input": "2021-10-11T17:24:00.339783Z",
     "iopub.status.busy": "2021-10-11T17:24:00.339466Z",
     "iopub.status.idle": "2021-10-11T17:24:00.349485Z",
     "shell.execute_reply": "2021-10-11T17:24:00.348596Z",
     "shell.execute_reply.started": "2021-10-11T17:24:00.339725Z"
    },
    "papermill": {
     "duration": null,
     "end_time": null,
     "exception": null,
     "start_time": null,
     "status": "pending"
    },
    "tags": []
   },
   "outputs": [],
   "source": [
    "results.describe()"
   ]
  },
  {
   "cell_type": "code",
   "execution_count": null,
   "id": "63e1d6b4",
   "metadata": {
    "execution": {
     "iopub.execute_input": "2021-10-11T17:24:00.350855Z",
     "iopub.status.busy": "2021-10-11T17:24:00.350616Z",
     "iopub.status.idle": "2021-10-11T17:24:00.552934Z",
     "shell.execute_reply": "2021-10-11T17:24:00.551979Z",
     "shell.execute_reply.started": "2021-10-11T17:24:00.35082Z"
    },
    "papermill": {
     "duration": null,
     "end_time": null,
     "exception": null,
     "start_time": null,
     "status": "pending"
    },
    "tags": []
   },
   "outputs": [],
   "source": [
    "plt.boxplot(results)\n",
    "plt.show()"
   ]
  },
  {
   "cell_type": "code",
   "execution_count": null,
   "id": "544d9afd",
   "metadata": {
    "execution": {
     "iopub.execute_input": "2021-10-11T17:24:00.554348Z",
     "iopub.status.busy": "2021-10-11T17:24:00.554128Z",
     "iopub.status.idle": "2021-10-11T17:24:03.068753Z",
     "shell.execute_reply": "2021-10-11T17:24:03.067954Z",
     "shell.execute_reply.started": "2021-10-11T17:24:00.554321Z"
    },
    "papermill": {
     "duration": null,
     "end_time": null,
     "exception": null,
     "start_time": null,
     "status": "pending"
    },
    "tags": []
   },
   "outputs": [],
   "source": [
    "from sklearn.svm import SVR\n",
    "\n",
    "svm_reg = SVR(kernel=\"linear\")\n",
    "svm_reg.fit(housing_prepared, housing_labels)\n",
    "housing_predictions = svm_reg.predict(housing_prepared)\n",
    "svm_mse = mean_squared_error(housing_labels, housing_predictions)\n",
    "svm_rmse = np.sqrt(svm_mse)\n",
    "svm_rmse"
   ]
  },
  {
   "cell_type": "code",
   "execution_count": null,
   "id": "b7591825",
   "metadata": {
    "execution": {
     "iopub.execute_input": "2021-10-11T17:24:03.07072Z",
     "iopub.status.busy": "2021-10-11T17:24:03.070128Z",
     "iopub.status.idle": "2021-10-11T17:25:02.267613Z",
     "shell.execute_reply": "2021-10-11T17:25:02.266777Z",
     "shell.execute_reply.started": "2021-10-11T17:24:03.070677Z"
    },
    "papermill": {
     "duration": null,
     "end_time": null,
     "exception": null,
     "start_time": null,
     "status": "pending"
    },
    "tags": []
   },
   "outputs": [],
   "source": [
    "## lets comare all of them \n",
    "\n",
    "models = [(lin_reg,\"lin_reg\"),\n",
    "          (tree_reg,\"Decision Tree\"),\n",
    "          (knn_reg,\"KNN-Regressor\"),\n",
    "          (forest_reg,'Random Forest'),\n",
    "          (svm_reg,'SVM Regressor')]\n",
    "for model in models:\n",
    "    scores = cross_val_score(model[0], housing_prepared, housing_labels, scoring=\"neg_root_mean_squared_error\", cv=10)\n",
    "    display_scores(-scores, model[1])"
   ]
  },
  {
   "cell_type": "code",
   "execution_count": null,
   "id": "f4255e44",
   "metadata": {
    "execution": {
     "iopub.execute_input": "2021-10-11T17:25:02.268998Z",
     "iopub.status.busy": "2021-10-11T17:25:02.268728Z",
     "iopub.status.idle": "2021-10-11T17:25:02.274458Z",
     "shell.execute_reply": "2021-10-11T17:25:02.273515Z",
     "shell.execute_reply.started": "2021-10-11T17:25:02.268968Z"
    },
    "papermill": {
     "duration": null,
     "end_time": null,
     "exception": null,
     "start_time": null,
     "status": "pending"
    },
    "tags": []
   },
   "outputs": [],
   "source": [
    "## Random forest looks to be the best model, but this model has several parametrs. Lets find the best parameters"
   ]
  },
  {
   "cell_type": "code",
   "execution_count": null,
   "id": "4bf7dda9",
   "metadata": {
    "execution": {
     "iopub.execute_input": "2021-10-11T17:25:02.276114Z",
     "iopub.status.busy": "2021-10-11T17:25:02.275905Z",
     "iopub.status.idle": "2021-10-11T17:25:22.939884Z",
     "shell.execute_reply": "2021-10-11T17:25:22.93925Z",
     "shell.execute_reply.started": "2021-10-11T17:25:02.276088Z"
    },
    "papermill": {
     "duration": null,
     "end_time": null,
     "exception": null,
     "start_time": null,
     "status": "pending"
    },
    "tags": []
   },
   "outputs": [],
   "source": [
    "from sklearn.model_selection import GridSearchCV\n",
    "\n",
    "param_grid = [\n",
    "    # try 12 (3×4) combinations of hyperparameters\n",
    "    {'n_estimators': [3, 10, 30], 'max_features': [2, 4, 6, 8], 'max_depth':[3,5,7,10]},\n",
    "    # then try 6 (2×3) combinations with bootstrap set as False\n",
    "    {'bootstrap': [False], 'n_estimators': [3, 10], 'max_features': [2, 3, 4]},\n",
    "  ]\n",
    "\n",
    "forest_reg = RandomForestRegressor(random_state=42)\n",
    "# train across 5 folds, that's a total of (12+6)*5=90 rounds of training \n",
    "grid_search = GridSearchCV(forest_reg, param_grid, cv=5,\n",
    "                           scoring='neg_root_mean_squared_error',\n",
    "                           return_train_score=True)\n",
    "grid_search.fit(housing_prepared, housing_labels)"
   ]
  },
  {
   "cell_type": "code",
   "execution_count": null,
   "id": "3ebc2d3b",
   "metadata": {
    "execution": {
     "iopub.execute_input": "2021-10-11T17:25:22.941469Z",
     "iopub.status.busy": "2021-10-11T17:25:22.940752Z",
     "iopub.status.idle": "2021-10-11T17:25:22.946132Z",
     "shell.execute_reply": "2021-10-11T17:25:22.945314Z",
     "shell.execute_reply.started": "2021-10-11T17:25:22.941438Z"
    },
    "papermill": {
     "duration": null,
     "end_time": null,
     "exception": null,
     "start_time": null,
     "status": "pending"
    },
    "tags": []
   },
   "outputs": [],
   "source": [
    "print(\"the best parameters are:\")\n",
    "print(grid_search.best_params_)"
   ]
  },
  {
   "cell_type": "code",
   "execution_count": null,
   "id": "91787df7",
   "metadata": {
    "execution": {
     "iopub.execute_input": "2021-10-11T17:25:22.947517Z",
     "iopub.status.busy": "2021-10-11T17:25:22.947283Z",
     "iopub.status.idle": "2021-10-11T17:25:22.962771Z",
     "shell.execute_reply": "2021-10-11T17:25:22.961906Z",
     "shell.execute_reply.started": "2021-10-11T17:25:22.947491Z"
    },
    "papermill": {
     "duration": null,
     "end_time": null,
     "exception": null,
     "start_time": null,
     "status": "pending"
    },
    "tags": []
   },
   "outputs": [],
   "source": [
    "print(\"Best Score\")\n",
    "np.sqrt(-grid_search.best_score_)"
   ]
  },
  {
   "cell_type": "code",
   "execution_count": null,
   "id": "4e0129ba",
   "metadata": {
    "execution": {
     "iopub.execute_input": "2021-10-11T17:25:22.964384Z",
     "iopub.status.busy": "2021-10-11T17:25:22.964077Z",
     "iopub.status.idle": "2021-10-11T17:25:22.973389Z",
     "shell.execute_reply": "2021-10-11T17:25:22.972504Z",
     "shell.execute_reply.started": "2021-10-11T17:25:22.964353Z"
    },
    "papermill": {
     "duration": null,
     "end_time": null,
     "exception": null,
     "start_time": null,
     "status": "pending"
    },
    "tags": []
   },
   "outputs": [],
   "source": [
    "print(\"the best trained model:\")\n",
    "grid_search.best_estimator_"
   ]
  },
  {
   "cell_type": "markdown",
   "id": "dc5fc656",
   "metadata": {
    "papermill": {
     "duration": null,
     "end_time": null,
     "exception": null,
     "start_time": null,
     "status": "pending"
    },
    "tags": []
   },
   "source": [
    "Let's look at the score of each hyperparameter combination tested during the grid search:"
   ]
  },
  {
   "cell_type": "code",
   "execution_count": null,
   "id": "10a18f0c",
   "metadata": {
    "execution": {
     "iopub.execute_input": "2021-10-11T17:25:22.974962Z",
     "iopub.status.busy": "2021-10-11T17:25:22.974714Z",
     "iopub.status.idle": "2021-10-11T17:25:22.995539Z",
     "shell.execute_reply": "2021-10-11T17:25:22.994517Z",
     "shell.execute_reply.started": "2021-10-11T17:25:22.974935Z"
    },
    "papermill": {
     "duration": null,
     "end_time": null,
     "exception": null,
     "start_time": null,
     "status": "pending"
    },
    "tags": []
   },
   "outputs": [],
   "source": [
    "cvres = grid_search.cv_results_\n",
    "for mean_score, params in zip(cvres[\"mean_test_score\"], cvres[\"params\"]):\n",
    "    print(-mean_score, params)"
   ]
  },
  {
   "cell_type": "code",
   "execution_count": null,
   "id": "5183b8ea",
   "metadata": {
    "execution": {
     "iopub.execute_input": "2021-10-11T17:25:22.998896Z",
     "iopub.status.busy": "2021-10-11T17:25:22.998432Z",
     "iopub.status.idle": "2021-10-11T17:25:23.040446Z",
     "shell.execute_reply": "2021-10-11T17:25:23.039809Z",
     "shell.execute_reply.started": "2021-10-11T17:25:22.998851Z"
    },
    "papermill": {
     "duration": null,
     "end_time": null,
     "exception": null,
     "start_time": null,
     "status": "pending"
    },
    "tags": []
   },
   "outputs": [],
   "source": [
    "pd.DataFrame(grid_search.cv_results_)\n"
   ]
  },
  {
   "cell_type": "code",
   "execution_count": null,
   "id": "791e7253",
   "metadata": {
    "execution": {
     "iopub.execute_input": "2021-10-11T17:25:23.042069Z",
     "iopub.status.busy": "2021-10-11T17:25:23.041611Z",
     "iopub.status.idle": "2021-10-11T17:25:28.530019Z",
     "shell.execute_reply": "2021-10-11T17:25:28.529229Z",
     "shell.execute_reply.started": "2021-10-11T17:25:23.042034Z"
    },
    "papermill": {
     "duration": null,
     "end_time": null,
     "exception": null,
     "start_time": null,
     "status": "pending"
    },
    "tags": []
   },
   "outputs": [],
   "source": [
    "grid_search = GridSearchCV(RandomForestRegressor(random_state=42,n_estimators=5,max_depth=10),\n",
    "                  param_grid={'max_features': range(2, 50, 2)},\n",
    "                  scoring='neg_root_mean_squared_error', return_train_score=True)\n",
    "grid_search.fit(housing_prepared, housing_labels)\n",
    "results = grid_search.cv_results_"
   ]
  },
  {
   "cell_type": "code",
   "execution_count": null,
   "id": "70e0727c",
   "metadata": {
    "execution": {
     "iopub.execute_input": "2021-10-11T17:25:28.531449Z",
     "iopub.status.busy": "2021-10-11T17:25:28.531199Z",
     "iopub.status.idle": "2021-10-11T17:25:28.869285Z",
     "shell.execute_reply": "2021-10-11T17:25:28.868292Z",
     "shell.execute_reply.started": "2021-10-11T17:25:28.531419Z"
    },
    "papermill": {
     "duration": null,
     "end_time": null,
     "exception": null,
     "start_time": null,
     "status": "pending"
    },
    "tags": []
   },
   "outputs": [],
   "source": [
    "#plot the results\n",
    "plt.figure(figsize=(13, 13))\n",
    "plt.title(\"GridSearchCV\",\n",
    "          fontsize=16)\n",
    "\n",
    "plt.xlabel(\"max_features\")\n",
    "plt.ylabel(\"Score\")\n",
    "\n",
    "ax = plt.gca()\n",
    "ax.set_xlim(0, 50)\n",
    "\n",
    "\n",
    "# Get the regular numpy array from the MaskedArray\n",
    "X_axis = np.array(results['param_max_features'].data, dtype=float)\n",
    "\n",
    "\n",
    "for sample, style in (('train', '--'), ('test', '-')):\n",
    "    sample_score_mean = (-results['mean_%s_score' % (sample)])\n",
    "    sample_score_std = (results['std_%s_score' % (sample)])\n",
    "    ax.fill_between(X_axis, sample_score_mean - sample_score_std,\n",
    "                    sample_score_mean + sample_score_std,\n",
    "                    alpha=0.1 if sample == 'test' else 0)\n",
    "    ax.plot(X_axis, sample_score_mean, style,\n",
    "            alpha=1 if sample == 'test' else 0.7,\n",
    "            label=\"(%s)\" % ( sample))\n",
    "\n",
    "best_index = np.nonzero(results['rank_test_score' ] == 1)[0][0]\n",
    "best_score =  (-results['mean_test_score' ][best_index])\n",
    "\n",
    "# Plot a dotted vertical line at the best score for that scorer marked by x\n",
    "ax.plot([X_axis[best_index], ] * 2, [best_score, best_score],\n",
    "        linestyle='-.',  marker='x', markeredgewidth=3, ms=8)\n",
    "\n",
    "# Annotate the best score for that scorer\n",
    "ax.annotate(\"%0.2f\" % best_score,\n",
    "            (X_axis[best_index], best_score + 0.005))\n",
    "\n",
    "plt.legend(loc=\"best\")\n",
    "plt.grid(False)\n",
    "plt.show()"
   ]
  },
  {
   "cell_type": "code",
   "execution_count": null,
   "id": "18d3ab89",
   "metadata": {
    "execution": {
     "iopub.execute_input": "2021-10-11T17:25:28.870898Z",
     "iopub.status.busy": "2021-10-11T17:25:28.870609Z",
     "iopub.status.idle": "2021-10-11T17:25:28.887103Z",
     "shell.execute_reply": "2021-10-11T17:25:28.885858Z",
     "shell.execute_reply.started": "2021-10-11T17:25:28.870868Z"
    },
    "papermill": {
     "duration": null,
     "end_time": null,
     "exception": null,
     "start_time": null,
     "status": "pending"
    },
    "tags": []
   },
   "outputs": [],
   "source": [
    "## Best features according to Random Forest\n",
    "feature_importances = grid_search.best_estimator_.feature_importances_\n",
    "feature_importances"
   ]
  },
  {
   "cell_type": "code",
   "execution_count": null,
   "id": "684c7eab",
   "metadata": {
    "execution": {
     "iopub.execute_input": "2021-10-11T17:25:28.888617Z",
     "iopub.status.busy": "2021-10-11T17:25:28.888377Z",
     "iopub.status.idle": "2021-10-11T17:25:28.901253Z",
     "shell.execute_reply": "2021-10-11T17:25:28.900109Z",
     "shell.execute_reply.started": "2021-10-11T17:25:28.888589Z"
    },
    "papermill": {
     "duration": null,
     "end_time": null,
     "exception": null,
     "start_time": null,
     "status": "pending"
    },
    "tags": []
   },
   "outputs": [],
   "source": [
    "extra_attribs = [\"rooms_per_building_area\", \"bedrooms_per_room\"]\n",
    "cat_encoder = full_pipeline.named_transformers_[\"cat\"]\n",
    "cat_one_hot_attribs = list(full_pipeline.named_transformers_[\"cat\"]['one_hot_encoder'].categories_[0])\n",
    "attributes = [\"log_\" + t for t in num_attribs0 ] + num_attribs1 + extra_attribs + cat_one_hot_attribs\n",
    "sorted(zip(feature_importances, attributes), reverse=True)"
   ]
  },
  {
   "cell_type": "markdown",
   "id": "5f045fda",
   "metadata": {
    "papermill": {
     "duration": null,
     "end_time": null,
     "exception": null,
     "start_time": null,
     "status": "pending"
    },
    "tags": []
   },
   "source": [
    " ## Final Model \n",
    " Create Final Model and evaluate it (You shoud do this only once)"
   ]
  },
  {
   "cell_type": "code",
   "execution_count": null,
   "id": "61309a4c",
   "metadata": {
    "execution": {
     "iopub.execute_input": "2021-10-11T17:25:28.902963Z",
     "iopub.status.busy": "2021-10-11T17:25:28.902721Z"
    },
    "papermill": {
     "duration": null,
     "end_time": null,
     "exception": null,
     "start_time": null,
     "status": "pending"
    },
    "tags": []
   },
   "outputs": [],
   "source": [
    "# Para mejorar la prediccion he usado el grid con varios parametros para detectar cuales eran los mejores, \n",
    "# los mas eficaces que he encontado son los que estan en el codigo a continuacion, tambien he intentado\n",
    "# mejorar el codigo eliminando los outliers pero esto no mejoraba la prediccion sino que la empeoraba.\n",
    "\n",
    "# El mejor modelo es RandomForest que nos da el RMSE menor\n",
    "grid = [\n",
    "    {'bootstrap': [False], \n",
    "     'max_features': [125], \n",
    "     'n_estimators': [210]},\n",
    "  ]\n",
    "\n",
    "grid_search = GridSearchCV(RandomForestRegressor(random_state=42),\n",
    "                  param_grid=grid,\n",
    "                  scoring='neg_root_mean_squared_error', return_train_score=True)\n",
    "grid_search.fit(housing_prepared, housing_labels)\n"
   ]
  },
  {
   "cell_type": "code",
   "execution_count": null,
   "id": "cd3c885b",
   "metadata": {
    "papermill": {
     "duration": null,
     "end_time": null,
     "exception": null,
     "start_time": null,
     "status": "pending"
    },
    "tags": []
   },
   "outputs": [],
   "source": [
    "print(\"The best parameters are:\")\n",
    "print(grid_search.best_params_)"
   ]
  },
  {
   "cell_type": "code",
   "execution_count": null,
   "id": "df5ebd19",
   "metadata": {
    "papermill": {
     "duration": null,
     "end_time": null,
     "exception": null,
     "start_time": null,
     "status": "pending"
    },
    "tags": []
   },
   "outputs": [],
   "source": [
    "final_model = grid_search.best_estimator_\n",
    "test_set = pd.read_csv('test_set.csv',index_col=0)\n",
    "\n",
    "#X_test = strat_test_set.drop(\"Price\", axis=1)\n",
    "#y_test = strat_test_set[\"Price\"].copy()\n",
    "\n",
    "X_test_prepared = full_pipeline.transform(test_set)\n",
    "final_predictions = final_model.predict(X_test_prepared)\n",
    "\n",
    "df_output = pd.DataFrame(final_predictions)\n",
    "df_output = df_output.reset_index()\n",
    "df_output.columns = ['index','Price']\n",
    "\n",
    "df_output.to_csv('baseline.csv',index=False)"
   ]
  },
  {
   "cell_type": "markdown",
   "id": "3d05c6fa",
   "metadata": {
    "papermill": {
     "duration": null,
     "end_time": null,
     "exception": null,
     "start_time": null,
     "status": "pending"
    },
    "tags": []
   },
   "source": [
    "We can compute a 95% confidence interval for the test RMSE:\n"
   ]
  },
  {
   "cell_type": "code",
   "execution_count": null,
   "id": "518ef68a",
   "metadata": {
    "papermill": {
     "duration": null,
     "end_time": null,
     "exception": null,
     "start_time": null,
     "status": "pending"
    },
    "tags": []
   },
   "outputs": [],
   "source": [
    "from scipy import stats\n",
    "confidence = 0.95\n",
    "squared_errors = (final_predictions - y_test) ** 2\n",
    "np.sqrt(stats.t.interval(confidence, len(squared_errors) - 1,\n",
    "                         loc=squared_errors.mean(),\n",
    "                         scale=stats.sem(squared_errors)))"
   ]
  },
  {
   "cell_type": "code",
   "execution_count": null,
   "id": "a8521687",
   "metadata": {
    "papermill": {
     "duration": null,
     "end_time": null,
     "exception": null,
     "start_time": null,
     "status": "pending"
    },
    "tags": []
   },
   "outputs": [],
   "source": []
  }
 ],
 "metadata": {
  "kernelspec": {
   "display_name": "Python 3",
   "language": "python",
   "name": "python3"
  },
  "language_info": {
   "codemirror_mode": {
    "name": "ipython",
    "version": 3
   },
   "file_extension": ".py",
   "mimetype": "text/x-python",
   "name": "python",
   "nbconvert_exporter": "python",
   "pygments_lexer": "ipython3",
   "version": "3.7.10"
  },
  "papermill": {
   "default_parameters": {},
   "duration": 9.575991,
   "end_time": "2022-01-20T10:54:16.435507",
   "environment_variables": {},
   "exception": true,
   "input_path": "__notebook__.ipynb",
   "output_path": "__notebook__.ipynb",
   "parameters": {},
   "start_time": "2022-01-20T10:54:06.859516",
   "version": "2.3.3"
  }
 },
 "nbformat": 4,
 "nbformat_minor": 5
}
