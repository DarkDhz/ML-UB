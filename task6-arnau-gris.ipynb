{
 "cells": [
  {
   "cell_type": "code",
   "execution_count": 1,
   "id": "99395473",
   "metadata": {
    "_cell_guid": "b1076dfc-b9ad-4769-8c92-a6c4dae69d19",
    "_uuid": "8f2839f25d086af736a60e9eeb907d3b93b6e0e5",
    "execution": {
     "iopub.execute_input": "2022-01-12T11:38:53.367446Z",
     "iopub.status.busy": "2022-01-12T11:38:53.362820Z",
     "iopub.status.idle": "2022-01-12T11:38:53.390941Z",
     "shell.execute_reply": "2022-01-12T11:38:53.392614Z",
     "shell.execute_reply.started": "2022-01-12T11:24:48.671907Z"
    },
    "papermill": {
     "duration": 0.085366,
     "end_time": "2022-01-12T11:38:53.393079",
     "exception": false,
     "start_time": "2022-01-12T11:38:53.307713",
     "status": "completed"
    },
    "tags": []
   },
   "outputs": [
    {
     "name": "stdout",
     "output_type": "stream",
     "text": [
      "/kaggle/input/mlub2021-session10/y_train.p\n",
      "/kaggle/input/mlub2021-session10/X_test.p\n",
      "/kaggle/input/mlub2021-session10/X_unlabeled.p\n",
      "/kaggle/input/mlub2021-session10/X_train.p\n"
     ]
    }
   ],
   "source": [
    "# This Python 3 environment comes with many helpful analytics libraries installed\n",
    "# It is defined by the kaggle/python Docker image: https://github.com/kaggle/docker-python\n",
    "# For example, here's several helpful packages to load\n",
    "\n",
    "import numpy as np # linear algebra\n",
    "import pandas as pd # data processing, CSV file I/O (e.g. pd.read_csv)\n",
    "import matplotlib.pyplot as plt\n",
    "\n",
    "# Input data files are available in the read-only \"../input/\" directory\n",
    "# For example, running this (by clicking run or pressing Shift+Enter) will list all files under the input directory\n",
    "\n",
    "import os\n",
    "for dirname, _, filenames in os.walk('/kaggle/input'):\n",
    "    for filename in filenames:\n",
    "        print(os.path.join(dirname, filename))\n",
    "\n",
    "# You can write up to 20GB to the current directory (/kaggle/working/) that gets preserved as output when you create a version using \"Save & Run All\" \n",
    "# You can also write temporary files to /kaggle/temp/, but they won't be saved outside of the current session"
   ]
  },
  {
   "cell_type": "code",
   "execution_count": 2,
   "id": "b09e6fd5",
   "metadata": {
    "execution": {
     "iopub.execute_input": "2022-01-12T11:38:53.475154Z",
     "iopub.status.busy": "2022-01-12T11:38:53.474115Z",
     "iopub.status.idle": "2022-01-12T11:39:00.844898Z",
     "shell.execute_reply": "2022-01-12T11:39:00.845562Z",
     "shell.execute_reply.started": "2022-01-12T11:24:48.691885Z"
    },
    "papermill": {
     "duration": 7.414159,
     "end_time": "2022-01-12T11:39:00.845767",
     "exception": false,
     "start_time": "2022-01-12T11:38:53.431608",
     "status": "completed"
    },
    "tags": []
   },
   "outputs": [],
   "source": [
    "# others imports\n",
    "import pickle\n",
    "import imageio\n",
    "from skimage import transform,io\n",
    "import matplotlib.pyplot as plt\n",
    "\n",
    "from sklearn.model_selection import train_test_split\n",
    "from sklearn.metrics import mean_squared_error\n",
    "\n",
    "import tensorflow as tf\n",
    "from tensorflow import keras\n",
    "from tensorflow.keras.callbacks import EarlyStopping, ModelCheckpoint\n",
    "from keras.layers import BatchNormalization\n",
    "from keras.layers import Dropout, Flatten, Conv2D, MaxPool2D, Dense, Conv2DTranspose, UpSampling2D"
   ]
  },
  {
   "cell_type": "code",
   "execution_count": 3,
   "id": "0a9be478",
   "metadata": {
    "execution": {
     "iopub.execute_input": "2022-01-12T11:39:00.894615Z",
     "iopub.status.busy": "2022-01-12T11:39:00.893768Z",
     "iopub.status.idle": "2022-01-12T11:39:00.912431Z",
     "shell.execute_reply": "2022-01-12T11:39:00.911841Z",
     "shell.execute_reply.started": "2022-01-12T11:24:48.704894Z"
    },
    "papermill": {
     "duration": 0.045706,
     "end_time": "2022-01-12T11:39:00.912579",
     "exception": false,
     "start_time": "2022-01-12T11:39:00.866873",
     "status": "completed"
    },
    "tags": []
   },
   "outputs": [],
   "source": [
    "keras.backend.clear_session()\n",
    "np.random.seed(42)\n",
    "tf.random.set_seed(42)"
   ]
  },
  {
   "cell_type": "code",
   "execution_count": 4,
   "id": "01f48fd0",
   "metadata": {
    "execution": {
     "iopub.execute_input": "2022-01-12T11:39:00.959530Z",
     "iopub.status.busy": "2022-01-12T11:39:00.958449Z",
     "iopub.status.idle": "2022-01-12T11:39:04.668861Z",
     "shell.execute_reply": "2022-01-12T11:39:04.668028Z",
     "shell.execute_reply.started": "2022-01-12T11:24:48.723301Z"
    },
    "papermill": {
     "duration": 3.736037,
     "end_time": "2022-01-12T11:39:04.669036",
     "exception": false,
     "start_time": "2022-01-12T11:39:00.932999",
     "status": "completed"
    },
    "tags": []
   },
   "outputs": [],
   "source": [
    "X = pickle.load(open(\"../input/mlub2021-session10/X_train.p\", \"rb\"))\n",
    "Y = pickle.load(open(\"../input/mlub2021-session10/y_train.p\", \"rb\"))\n",
    "X_unlabeled = pickle.load(open(\"../input/mlub2021-session10/X_unlabeled.p\", \"rb\"))\n",
    "X_test = pickle.load(open(\"../input/mlub2021-session10/X_test.p\", \"rb\"))"
   ]
  },
  {
   "cell_type": "code",
   "execution_count": 5,
   "id": "7ba0acae",
   "metadata": {
    "execution": {
     "iopub.execute_input": "2022-01-12T11:39:04.717599Z",
     "iopub.status.busy": "2022-01-12T11:39:04.716719Z",
     "iopub.status.idle": "2022-01-12T11:39:04.730436Z",
     "shell.execute_reply": "2022-01-12T11:39:04.729893Z",
     "shell.execute_reply.started": "2022-01-12T11:24:48.986080Z"
    },
    "papermill": {
     "duration": 0.040615,
     "end_time": "2022-01-12T11:39:04.730574",
     "exception": false,
     "start_time": "2022-01-12T11:39:04.689959",
     "status": "completed"
    },
    "tags": []
   },
   "outputs": [],
   "source": [
    "X_train, X_val, y_train, y_val= train_test_split(X, Y, test_size=0.2, random_state=66)"
   ]
  },
  {
   "cell_type": "code",
   "execution_count": 6,
   "id": "c048fd24",
   "metadata": {
    "execution": {
     "iopub.execute_input": "2022-01-12T11:39:04.781552Z",
     "iopub.status.busy": "2022-01-12T11:39:04.779860Z",
     "iopub.status.idle": "2022-01-12T11:39:04.784456Z",
     "shell.execute_reply": "2022-01-12T11:39:04.784951Z",
     "shell.execute_reply.started": "2022-01-12T11:24:49.002092Z"
    },
    "papermill": {
     "duration": 0.03421,
     "end_time": "2022-01-12T11:39:04.785113",
     "exception": false,
     "start_time": "2022-01-12T11:39:04.750903",
     "status": "completed"
    },
    "tags": []
   },
   "outputs": [
    {
     "data": {
      "text/plain": [
       "(4000, 32, 32, 3)"
      ]
     },
     "execution_count": 6,
     "metadata": {},
     "output_type": "execute_result"
    }
   ],
   "source": [
    "X_train.shape"
   ]
  },
  {
   "cell_type": "code",
   "execution_count": 7,
   "id": "5c1012c4",
   "metadata": {
    "execution": {
     "iopub.execute_input": "2022-01-12T11:39:04.833061Z",
     "iopub.status.busy": "2022-01-12T11:39:04.831347Z",
     "iopub.status.idle": "2022-01-12T11:39:05.180453Z",
     "shell.execute_reply": "2022-01-12T11:39:05.179820Z",
     "shell.execute_reply.started": "2022-01-12T11:24:49.012079Z"
    },
    "papermill": {
     "duration": 0.374691,
     "end_time": "2022-01-12T11:39:05.180617",
     "exception": false,
     "start_time": "2022-01-12T11:39:04.805926",
     "status": "completed"
    },
    "tags": []
   },
   "outputs": [],
   "source": [
    "X_train = X_train.astype('float32') / 255.\n",
    "X_val = X_val.astype('float32') / 255.\n",
    "X_test = X_test.astype('float32') / 255.\n",
    "X_unlabeled = X_unlabeled.astype('float32') / 255."
   ]
  },
  {
   "cell_type": "code",
   "execution_count": 8,
   "id": "19d8731f",
   "metadata": {
    "execution": {
     "iopub.execute_input": "2022-01-12T11:39:05.234982Z",
     "iopub.status.busy": "2022-01-12T11:39:05.234168Z",
     "iopub.status.idle": "2022-01-12T11:39:08.210492Z",
     "shell.execute_reply": "2022-01-12T11:39:08.211435Z",
     "shell.execute_reply.started": "2022-01-12T11:24:49.366792Z"
    },
    "papermill": {
     "duration": 3.005231,
     "end_time": "2022-01-12T11:39:08.211728",
     "exception": false,
     "start_time": "2022-01-12T11:39:05.206497",
     "status": "completed"
    },
    "tags": []
   },
   "outputs": [
    {
     "name": "stderr",
     "output_type": "stream",
     "text": [
      "2022-01-12 11:39:05.323260: I tensorflow/stream_executor/cuda/cuda_gpu_executor.cc:937] successful NUMA node read from SysFS had negative value (-1), but there must be at least one NUMA node, so returning NUMA node zero\n",
      "2022-01-12 11:39:05.477477: I tensorflow/stream_executor/cuda/cuda_gpu_executor.cc:937] successful NUMA node read from SysFS had negative value (-1), but there must be at least one NUMA node, so returning NUMA node zero\n",
      "2022-01-12 11:39:05.478618: I tensorflow/stream_executor/cuda/cuda_gpu_executor.cc:937] successful NUMA node read from SysFS had negative value (-1), but there must be at least one NUMA node, so returning NUMA node zero\n",
      "2022-01-12 11:39:05.480480: I tensorflow/core/platform/cpu_feature_guard.cc:142] This TensorFlow binary is optimized with oneAPI Deep Neural Network Library (oneDNN) to use the following CPU instructions in performance-critical operations:  AVX2 FMA\n",
      "To enable them in other operations, rebuild TensorFlow with the appropriate compiler flags.\n",
      "2022-01-12 11:39:05.481791: I tensorflow/stream_executor/cuda/cuda_gpu_executor.cc:937] successful NUMA node read from SysFS had negative value (-1), but there must be at least one NUMA node, so returning NUMA node zero\n",
      "2022-01-12 11:39:05.483082: I tensorflow/stream_executor/cuda/cuda_gpu_executor.cc:937] successful NUMA node read from SysFS had negative value (-1), but there must be at least one NUMA node, so returning NUMA node zero\n",
      "2022-01-12 11:39:05.484308: I tensorflow/stream_executor/cuda/cuda_gpu_executor.cc:937] successful NUMA node read from SysFS had negative value (-1), but there must be at least one NUMA node, so returning NUMA node zero\n",
      "2022-01-12 11:39:07.785782: I tensorflow/stream_executor/cuda/cuda_gpu_executor.cc:937] successful NUMA node read from SysFS had negative value (-1), but there must be at least one NUMA node, so returning NUMA node zero\n",
      "2022-01-12 11:39:07.786910: I tensorflow/stream_executor/cuda/cuda_gpu_executor.cc:937] successful NUMA node read from SysFS had negative value (-1), but there must be at least one NUMA node, so returning NUMA node zero\n",
      "2022-01-12 11:39:07.788004: I tensorflow/stream_executor/cuda/cuda_gpu_executor.cc:937] successful NUMA node read from SysFS had negative value (-1), but there must be at least one NUMA node, so returning NUMA node zero\n",
      "2022-01-12 11:39:07.788988: I tensorflow/core/common_runtime/gpu/gpu_device.cc:1510] Created device /job:localhost/replica:0/task:0/device:GPU:0 with 15403 MB memory:  -> device: 0, name: Tesla P100-PCIE-16GB, pci bus id: 0000:00:04.0, compute capability: 6.0\n"
     ]
    }
   ],
   "source": [
    "# define encoder \n",
    "# reused network from task Learning to count\n",
    "encoder = keras.models.Sequential()\n",
    "encoder.add(Conv2D(filters=32, kernel_size=5, padding=\"same\", activation=\"relu\", input_shape=[32, 32, 3]))\n",
    "encoder.add(MaxPool2D(pool_size=2))\n",
    "\n",
    "encoder.add(Conv2D(filters=64, kernel_size=3, padding=\"same\", activation=\"relu\"))\n",
    "encoder.add(MaxPool2D(pool_size=2))\n",
    "\n",
    "encoder.add(Conv2D(filters=128, kernel_size=3, padding=\"same\", activation=\"relu\"))\n",
    "encoder.add(MaxPool2D(pool_size=2))"
   ]
  },
  {
   "cell_type": "code",
   "execution_count": 9,
   "id": "128e7c7f",
   "metadata": {
    "execution": {
     "iopub.execute_input": "2022-01-12T11:39:08.262123Z",
     "iopub.status.busy": "2022-01-12T11:39:08.259654Z",
     "iopub.status.idle": "2022-01-12T11:39:08.269663Z",
     "shell.execute_reply": "2022-01-12T11:39:08.270244Z",
     "shell.execute_reply.started": "2022-01-12T11:24:49.422122Z"
    },
    "papermill": {
     "duration": 0.037011,
     "end_time": "2022-01-12T11:39:08.270440",
     "exception": false,
     "start_time": "2022-01-12T11:39:08.233429",
     "status": "completed"
    },
    "tags": []
   },
   "outputs": [
    {
     "name": "stdout",
     "output_type": "stream",
     "text": [
      "Model: \"sequential\"\n",
      "_________________________________________________________________\n",
      "Layer (type)                 Output Shape              Param #   \n",
      "=================================================================\n",
      "conv2d (Conv2D)              (None, 32, 32, 32)        2432      \n",
      "_________________________________________________________________\n",
      "max_pooling2d (MaxPooling2D) (None, 16, 16, 32)        0         \n",
      "_________________________________________________________________\n",
      "conv2d_1 (Conv2D)            (None, 16, 16, 64)        18496     \n",
      "_________________________________________________________________\n",
      "max_pooling2d_1 (MaxPooling2 (None, 8, 8, 64)          0         \n",
      "_________________________________________________________________\n",
      "conv2d_2 (Conv2D)            (None, 8, 8, 128)         73856     \n",
      "_________________________________________________________________\n",
      "max_pooling2d_2 (MaxPooling2 (None, 4, 4, 128)         0         \n",
      "=================================================================\n",
      "Total params: 94,784\n",
      "Trainable params: 94,784\n",
      "Non-trainable params: 0\n",
      "_________________________________________________________________\n"
     ]
    }
   ],
   "source": [
    "encoder.summary()"
   ]
  },
  {
   "cell_type": "code",
   "execution_count": 10,
   "id": "798443d5",
   "metadata": {
    "execution": {
     "iopub.execute_input": "2022-01-12T11:39:08.327025Z",
     "iopub.status.busy": "2022-01-12T11:39:08.320971Z",
     "iopub.status.idle": "2022-01-12T11:39:08.401438Z",
     "shell.execute_reply": "2022-01-12T11:39:08.400523Z",
     "shell.execute_reply.started": "2022-01-12T11:24:49.440939Z"
    },
    "papermill": {
     "duration": 0.109529,
     "end_time": "2022-01-12T11:39:08.401575",
     "exception": false,
     "start_time": "2022-01-12T11:39:08.292046",
     "status": "completed"
    },
    "tags": []
   },
   "outputs": [],
   "source": [
    "# define decoder\n",
    "decoder = keras.models.Sequential()\n",
    "decoder.add(Conv2DTranspose(64, kernel_size=5, padding=\"same\", activation=\"relu\", input_shape=[4, 4, 128]))\n",
    "decoder.add(UpSampling2D((2,2)))\n",
    "decoder.add(Conv2DTranspose(32, kernel_size=3, padding=\"same\", activation=\"relu\"))\n",
    "decoder.add(UpSampling2D((4,4)))\n",
    "decoder.add(Conv2DTranspose(3, kernel_size=3, padding=\"same\", activation=\"sigmoid\"))"
   ]
  },
  {
   "cell_type": "code",
   "execution_count": 11,
   "id": "248c11cb",
   "metadata": {
    "execution": {
     "iopub.execute_input": "2022-01-12T11:39:08.451028Z",
     "iopub.status.busy": "2022-01-12T11:39:08.449127Z",
     "iopub.status.idle": "2022-01-12T11:39:08.458778Z",
     "shell.execute_reply": "2022-01-12T11:39:08.457826Z",
     "shell.execute_reply.started": "2022-01-12T11:24:49.512768Z"
    },
    "papermill": {
     "duration": 0.036132,
     "end_time": "2022-01-12T11:39:08.459034",
     "exception": false,
     "start_time": "2022-01-12T11:39:08.422902",
     "status": "completed"
    },
    "tags": []
   },
   "outputs": [
    {
     "name": "stdout",
     "output_type": "stream",
     "text": [
      "Model: \"sequential_1\"\n",
      "_________________________________________________________________\n",
      "Layer (type)                 Output Shape              Param #   \n",
      "=================================================================\n",
      "conv2d_transpose (Conv2DTran (None, 4, 4, 64)          204864    \n",
      "_________________________________________________________________\n",
      "up_sampling2d (UpSampling2D) (None, 8, 8, 64)          0         \n",
      "_________________________________________________________________\n",
      "conv2d_transpose_1 (Conv2DTr (None, 8, 8, 32)          18464     \n",
      "_________________________________________________________________\n",
      "up_sampling2d_1 (UpSampling2 (None, 32, 32, 32)        0         \n",
      "_________________________________________________________________\n",
      "conv2d_transpose_2 (Conv2DTr (None, 32, 32, 3)         867       \n",
      "=================================================================\n",
      "Total params: 224,195\n",
      "Trainable params: 224,195\n",
      "Non-trainable params: 0\n",
      "_________________________________________________________________\n"
     ]
    }
   ],
   "source": [
    "decoder.summary()"
   ]
  },
  {
   "cell_type": "code",
   "execution_count": 12,
   "id": "fea1d778",
   "metadata": {
    "execution": {
     "iopub.execute_input": "2022-01-12T11:39:08.509317Z",
     "iopub.status.busy": "2022-01-12T11:39:08.508322Z",
     "iopub.status.idle": "2022-01-12T11:39:08.576622Z",
     "shell.execute_reply": "2022-01-12T11:39:08.576069Z",
     "shell.execute_reply.started": "2022-01-12T11:24:49.530434Z"
    },
    "papermill": {
     "duration": 0.095935,
     "end_time": "2022-01-12T11:39:08.576748",
     "exception": false,
     "start_time": "2022-01-12T11:39:08.480813",
     "status": "completed"
    },
    "tags": []
   },
   "outputs": [
    {
     "name": "stdout",
     "output_type": "stream",
     "text": [
      "Model: \"sequential_2\"\n",
      "_________________________________________________________________\n",
      "Layer (type)                 Output Shape              Param #   \n",
      "=================================================================\n",
      "sequential (Sequential)      (None, 4, 4, 128)         94784     \n",
      "_________________________________________________________________\n",
      "sequential_1 (Sequential)    (None, 32, 32, 3)         224195    \n",
      "=================================================================\n",
      "Total params: 318,979\n",
      "Trainable params: 318,979\n",
      "Non-trainable params: 0\n",
      "_________________________________________________________________\n"
     ]
    }
   ],
   "source": [
    "# define autoencoder\n",
    "autoencoder = keras.models.Sequential([encoder, decoder])\n",
    "autoencoder.summary()"
   ]
  },
  {
   "cell_type": "code",
   "execution_count": 13,
   "id": "0bb674d0",
   "metadata": {
    "execution": {
     "iopub.execute_input": "2022-01-12T11:39:08.629980Z",
     "iopub.status.busy": "2022-01-12T11:39:08.628907Z",
     "iopub.status.idle": "2022-01-12T11:39:08.636841Z",
     "shell.execute_reply": "2022-01-12T11:39:08.637342Z",
     "shell.execute_reply.started": "2022-01-12T11:24:49.606269Z"
    },
    "papermill": {
     "duration": 0.039357,
     "end_time": "2022-01-12T11:39:08.637538",
     "exception": false,
     "start_time": "2022-01-12T11:39:08.598181",
     "status": "completed"
    },
    "tags": []
   },
   "outputs": [],
   "source": [
    "adam = tf.keras.optimizers.Adam(learning_rate = 0.0001, beta_1 = 0.9, beta_2 = 0.999, amsgrad = True)\n",
    "autoencoder.compile(loss=\"mean_squared_error\", optimizer=\"Adam\", metrics=['accuracy'])"
   ]
  },
  {
   "cell_type": "code",
   "execution_count": 14,
   "id": "dce31d1a",
   "metadata": {
    "execution": {
     "iopub.execute_input": "2022-01-12T11:39:08.688774Z",
     "iopub.status.busy": "2022-01-12T11:39:08.687938Z",
     "iopub.status.idle": "2022-01-12T11:39:08.691768Z",
     "shell.execute_reply": "2022-01-12T11:39:08.692375Z",
     "shell.execute_reply.started": "2022-01-12T11:24:49.624368Z"
    },
    "papermill": {
     "duration": 0.031872,
     "end_time": "2022-01-12T11:39:08.692556",
     "exception": false,
     "start_time": "2022-01-12T11:39:08.660684",
     "status": "completed"
    },
    "tags": []
   },
   "outputs": [],
   "source": [
    "early_stopping_cb = keras.callbacks.EarlyStopping(patience=10,restore_best_weights=True)\n",
    "check_pointer = ModelCheckpoint(filepath = \"my_keras_model.h5\", save_best_only=True)"
   ]
  },
  {
   "cell_type": "code",
   "execution_count": 15,
   "id": "dcf9720d",
   "metadata": {
    "execution": {
     "iopub.execute_input": "2022-01-12T11:39:08.741734Z",
     "iopub.status.busy": "2022-01-12T11:39:08.740529Z",
     "iopub.status.idle": "2022-01-12T11:55:33.375161Z",
     "shell.execute_reply": "2022-01-12T11:55:33.374184Z",
     "shell.execute_reply.started": "2022-01-12T11:24:49.633539Z"
    },
    "papermill": {
     "duration": 984.660773,
     "end_time": "2022-01-12T11:55:33.375363",
     "exception": false,
     "start_time": "2022-01-12T11:39:08.714590",
     "status": "completed"
    },
    "tags": []
   },
   "outputs": [
    {
     "name": "stderr",
     "output_type": "stream",
     "text": [
      "2022-01-12 11:39:10.681015: I tensorflow/compiler/mlir/mlir_graph_optimization_pass.cc:185] None of the MLIR Optimization Passes are enabled (registered 2)\n"
     ]
    },
    {
     "name": "stdout",
     "output_type": "stream",
     "text": [
      "Epoch 1/100\n"
     ]
    },
    {
     "name": "stderr",
     "output_type": "stream",
     "text": [
      "2022-01-12 11:39:12.546692: I tensorflow/stream_executor/cuda/cuda_dnn.cc:369] Loaded cuDNN version 8005\n"
     ]
    },
    {
     "name": "stdout",
     "output_type": "stream",
     "text": [
      "1407/1407 [==============================] - 17s 7ms/step - loss: 0.0140 - accuracy: 0.7096 - val_loss: 0.0104 - val_accuracy: 0.7319\n",
      "Epoch 2/100\n",
      "1407/1407 [==============================] - 9s 6ms/step - loss: 0.0090 - accuracy: 0.7624 - val_loss: 0.0080 - val_accuracy: 0.7724\n",
      "Epoch 3/100\n",
      "1407/1407 [==============================] - 10s 7ms/step - loss: 0.0078 - accuracy: 0.7670 - val_loss: 0.0081 - val_accuracy: 0.7760\n",
      "Epoch 4/100\n",
      "1407/1407 [==============================] - 9s 6ms/step - loss: 0.0071 - accuracy: 0.7716 - val_loss: 0.0067 - val_accuracy: 0.7864\n",
      "Epoch 5/100\n",
      "1407/1407 [==============================] - 10s 7ms/step - loss: 0.0066 - accuracy: 0.7741 - val_loss: 0.0065 - val_accuracy: 0.7999\n",
      "Epoch 6/100\n",
      "1407/1407 [==============================] - 9s 7ms/step - loss: 0.0064 - accuracy: 0.7771 - val_loss: 0.0061 - val_accuracy: 0.8038\n",
      "Epoch 7/100\n",
      "1407/1407 [==============================] - 10s 7ms/step - loss: 0.0061 - accuracy: 0.7796 - val_loss: 0.0060 - val_accuracy: 0.7748\n",
      "Epoch 8/100\n",
      "1407/1407 [==============================] - 9s 6ms/step - loss: 0.0059 - accuracy: 0.7830 - val_loss: 0.0060 - val_accuracy: 0.7922\n",
      "Epoch 9/100\n",
      "1407/1407 [==============================] - 9s 7ms/step - loss: 0.0058 - accuracy: 0.7841 - val_loss: 0.0057 - val_accuracy: 0.8135\n",
      "Epoch 10/100\n",
      "1407/1407 [==============================] - 10s 7ms/step - loss: 0.0057 - accuracy: 0.7859 - val_loss: 0.0060 - val_accuracy: 0.7913\n",
      "Epoch 11/100\n",
      "1407/1407 [==============================] - 9s 6ms/step - loss: 0.0056 - accuracy: 0.7874 - val_loss: 0.0054 - val_accuracy: 0.7942\n",
      "Epoch 12/100\n",
      "1407/1407 [==============================] - 9s 6ms/step - loss: 0.0055 - accuracy: 0.7894 - val_loss: 0.0055 - val_accuracy: 0.7984\n",
      "Epoch 13/100\n",
      "1407/1407 [==============================] - 10s 7ms/step - loss: 0.0054 - accuracy: 0.7899 - val_loss: 0.0052 - val_accuracy: 0.8092\n",
      "Epoch 14/100\n",
      "1407/1407 [==============================] - 10s 7ms/step - loss: 0.0053 - accuracy: 0.7913 - val_loss: 0.0054 - val_accuracy: 0.7625\n",
      "Epoch 15/100\n",
      "1407/1407 [==============================] - 9s 6ms/step - loss: 0.0053 - accuracy: 0.7916 - val_loss: 0.0051 - val_accuracy: 0.8028\n",
      "Epoch 16/100\n",
      "1407/1407 [==============================] - 10s 7ms/step - loss: 0.0052 - accuracy: 0.7928 - val_loss: 0.0052 - val_accuracy: 0.8077\n",
      "Epoch 17/100\n",
      "1407/1407 [==============================] - 10s 7ms/step - loss: 0.0052 - accuracy: 0.7957 - val_loss: 0.0052 - val_accuracy: 0.8199\n",
      "Epoch 18/100\n",
      "1407/1407 [==============================] - 9s 6ms/step - loss: 0.0051 - accuracy: 0.7958 - val_loss: 0.0050 - val_accuracy: 0.8059\n",
      "Epoch 19/100\n",
      "1407/1407 [==============================] - 10s 7ms/step - loss: 0.0051 - accuracy: 0.7961 - val_loss: 0.0049 - val_accuracy: 0.7951\n",
      "Epoch 20/100\n",
      "1407/1407 [==============================] - 9s 7ms/step - loss: 0.0051 - accuracy: 0.7961 - val_loss: 0.0050 - val_accuracy: 0.8129\n",
      "Epoch 21/100\n",
      "1407/1407 [==============================] - 10s 7ms/step - loss: 0.0050 - accuracy: 0.7975 - val_loss: 0.0054 - val_accuracy: 0.7980\n",
      "Epoch 22/100\n",
      "1407/1407 [==============================] - 9s 7ms/step - loss: 0.0050 - accuracy: 0.7971 - val_loss: 0.0050 - val_accuracy: 0.7818\n",
      "Epoch 23/100\n",
      "1407/1407 [==============================] - 10s 7ms/step - loss: 0.0050 - accuracy: 0.7975 - val_loss: 0.0049 - val_accuracy: 0.8128\n",
      "Epoch 24/100\n",
      "1407/1407 [==============================] - 9s 7ms/step - loss: 0.0049 - accuracy: 0.7980 - val_loss: 0.0048 - val_accuracy: 0.8104\n",
      "Epoch 25/100\n",
      "1407/1407 [==============================] - 9s 6ms/step - loss: 0.0049 - accuracy: 0.7983 - val_loss: 0.0063 - val_accuracy: 0.8174\n",
      "Epoch 26/100\n",
      "1407/1407 [==============================] - 10s 7ms/step - loss: 0.0049 - accuracy: 0.7994 - val_loss: 0.0050 - val_accuracy: 0.8073\n",
      "Epoch 27/100\n",
      "1407/1407 [==============================] - 9s 6ms/step - loss: 0.0048 - accuracy: 0.7993 - val_loss: 0.0048 - val_accuracy: 0.8082\n",
      "Epoch 28/100\n",
      "1407/1407 [==============================] - 10s 7ms/step - loss: 0.0048 - accuracy: 0.7979 - val_loss: 0.0053 - val_accuracy: 0.7483\n",
      "Epoch 29/100\n",
      "1407/1407 [==============================] - 9s 6ms/step - loss: 0.0048 - accuracy: 0.8003 - val_loss: 0.0047 - val_accuracy: 0.8152\n",
      "Epoch 30/100\n",
      "1407/1407 [==============================] - 11s 8ms/step - loss: 0.0048 - accuracy: 0.7994 - val_loss: 0.0047 - val_accuracy: 0.8176\n",
      "Epoch 31/100\n",
      "1407/1407 [==============================] - 10s 7ms/step - loss: 0.0048 - accuracy: 0.8001 - val_loss: 0.0049 - val_accuracy: 0.7692\n",
      "Epoch 32/100\n",
      "1407/1407 [==============================] - 9s 6ms/step - loss: 0.0048 - accuracy: 0.8008 - val_loss: 0.0048 - val_accuracy: 0.7648\n",
      "Epoch 33/100\n",
      "1407/1407 [==============================] - 11s 8ms/step - loss: 0.0047 - accuracy: 0.8006 - val_loss: 0.0048 - val_accuracy: 0.8137\n",
      "Epoch 34/100\n",
      "1407/1407 [==============================] - 10s 7ms/step - loss: 0.0047 - accuracy: 0.8008 - val_loss: 0.0047 - val_accuracy: 0.7922\n",
      "Epoch 35/100\n",
      "1407/1407 [==============================] - 9s 6ms/step - loss: 0.0047 - accuracy: 0.8000 - val_loss: 0.0047 - val_accuracy: 0.8016\n",
      "Epoch 36/100\n",
      "1407/1407 [==============================] - 9s 6ms/step - loss: 0.0047 - accuracy: 0.8006 - val_loss: 0.0047 - val_accuracy: 0.7842\n",
      "Epoch 37/100\n",
      "1407/1407 [==============================] - 11s 8ms/step - loss: 0.0047 - accuracy: 0.8004 - val_loss: 0.0047 - val_accuracy: 0.8158\n",
      "Epoch 38/100\n",
      "1407/1407 [==============================] - 10s 7ms/step - loss: 0.0047 - accuracy: 0.8011 - val_loss: 0.0046 - val_accuracy: 0.8199\n",
      "Epoch 39/100\n",
      "1407/1407 [==============================] - 9s 6ms/step - loss: 0.0047 - accuracy: 0.8017 - val_loss: 0.0049 - val_accuracy: 0.8180\n",
      "Epoch 40/100\n",
      "1407/1407 [==============================] - 9s 6ms/step - loss: 0.0046 - accuracy: 0.8009 - val_loss: 0.0045 - val_accuracy: 0.8207\n",
      "Epoch 41/100\n",
      "1407/1407 [==============================] - 12s 8ms/step - loss: 0.0046 - accuracy: 0.8012 - val_loss: 0.0046 - val_accuracy: 0.7927\n",
      "Epoch 42/100\n",
      "1407/1407 [==============================] - 9s 6ms/step - loss: 0.0046 - accuracy: 0.8019 - val_loss: 0.0047 - val_accuracy: 0.8105\n",
      "Epoch 43/100\n",
      "1407/1407 [==============================] - 9s 6ms/step - loss: 0.0046 - accuracy: 0.8018 - val_loss: 0.0048 - val_accuracy: 0.8136\n",
      "Epoch 44/100\n",
      "1407/1407 [==============================] - 11s 8ms/step - loss: 0.0046 - accuracy: 0.8015 - val_loss: 0.0045 - val_accuracy: 0.7906\n",
      "Epoch 45/100\n",
      "1407/1407 [==============================] - 10s 7ms/step - loss: 0.0046 - accuracy: 0.8021 - val_loss: 0.0045 - val_accuracy: 0.8260\n",
      "Epoch 46/100\n",
      "1407/1407 [==============================] - 9s 6ms/step - loss: 0.0046 - accuracy: 0.8021 - val_loss: 0.0049 - val_accuracy: 0.8099\n",
      "Epoch 47/100\n",
      "1407/1407 [==============================] - 9s 7ms/step - loss: 0.0046 - accuracy: 0.8013 - val_loss: 0.0045 - val_accuracy: 0.8201\n",
      "Epoch 48/100\n",
      "1407/1407 [==============================] - 12s 8ms/step - loss: 0.0045 - accuracy: 0.8030 - val_loss: 0.0045 - val_accuracy: 0.8084\n",
      "Epoch 49/100\n",
      "1407/1407 [==============================] - 9s 7ms/step - loss: 0.0045 - accuracy: 0.8025 - val_loss: 0.0047 - val_accuracy: 0.8154\n",
      "Epoch 50/100\n",
      "1407/1407 [==============================] - 9s 6ms/step - loss: 0.0045 - accuracy: 0.8033 - val_loss: 0.0045 - val_accuracy: 0.8228\n",
      "Epoch 51/100\n",
      "1407/1407 [==============================] - 10s 7ms/step - loss: 0.0045 - accuracy: 0.8023 - val_loss: 0.0046 - val_accuracy: 0.7807\n",
      "Epoch 52/100\n",
      "1407/1407 [==============================] - 9s 6ms/step - loss: 0.0045 - accuracy: 0.8026 - val_loss: 0.0044 - val_accuracy: 0.8323\n",
      "Epoch 53/100\n",
      "1407/1407 [==============================] - 9s 6ms/step - loss: 0.0045 - accuracy: 0.8037 - val_loss: 0.0044 - val_accuracy: 0.8098\n",
      "Epoch 54/100\n",
      "1407/1407 [==============================] - 9s 6ms/step - loss: 0.0045 - accuracy: 0.8025 - val_loss: 0.0045 - val_accuracy: 0.8048\n",
      "Epoch 55/100\n",
      "1407/1407 [==============================] - 11s 8ms/step - loss: 0.0045 - accuracy: 0.8034 - val_loss: 0.0045 - val_accuracy: 0.7992\n",
      "Epoch 56/100\n",
      "1407/1407 [==============================] - 10s 7ms/step - loss: 0.0045 - accuracy: 0.8036 - val_loss: 0.0045 - val_accuracy: 0.7875\n",
      "Epoch 57/100\n",
      "1407/1407 [==============================] - 9s 6ms/step - loss: 0.0045 - accuracy: 0.8032 - val_loss: 0.0044 - val_accuracy: 0.8012\n",
      "Epoch 58/100\n",
      "1407/1407 [==============================] - 9s 7ms/step - loss: 0.0045 - accuracy: 0.8036 - val_loss: 0.0046 - val_accuracy: 0.8222\n",
      "Epoch 59/100\n",
      "1407/1407 [==============================] - 9s 7ms/step - loss: 0.0045 - accuracy: 0.8033 - val_loss: 0.0045 - val_accuracy: 0.7440\n",
      "Epoch 60/100\n",
      "1407/1407 [==============================] - 9s 6ms/step - loss: 0.0044 - accuracy: 0.8037 - val_loss: 0.0044 - val_accuracy: 0.7917\n",
      "Epoch 61/100\n",
      "1407/1407 [==============================] - 9s 6ms/step - loss: 0.0044 - accuracy: 0.8026 - val_loss: 0.0046 - val_accuracy: 0.7657\n",
      "Epoch 62/100\n",
      "1407/1407 [==============================] - 11s 8ms/step - loss: 0.0044 - accuracy: 0.8042 - val_loss: 0.0045 - val_accuracy: 0.8270\n",
      "Epoch 63/100\n",
      "1407/1407 [==============================] - 11s 8ms/step - loss: 0.0044 - accuracy: 0.8036 - val_loss: 0.0046 - val_accuracy: 0.8044\n",
      "Epoch 64/100\n",
      "1407/1407 [==============================] - 9s 6ms/step - loss: 0.0044 - accuracy: 0.8039 - val_loss: 0.0044 - val_accuracy: 0.8220\n",
      "Epoch 65/100\n",
      "1407/1407 [==============================] - 9s 7ms/step - loss: 0.0044 - accuracy: 0.8041 - val_loss: 0.0044 - val_accuracy: 0.8169\n",
      "Epoch 66/100\n",
      "1407/1407 [==============================] - 9s 6ms/step - loss: 0.0044 - accuracy: 0.8044 - val_loss: 0.0044 - val_accuracy: 0.7865\n",
      "Epoch 67/100\n",
      "1407/1407 [==============================] - 9s 6ms/step - loss: 0.0044 - accuracy: 0.8039 - val_loss: 0.0045 - val_accuracy: 0.7950\n",
      "Epoch 68/100\n",
      "1407/1407 [==============================] - 9s 6ms/step - loss: 0.0044 - accuracy: 0.8045 - val_loss: 0.0043 - val_accuracy: 0.8133\n",
      "Epoch 69/100\n",
      "1407/1407 [==============================] - 10s 7ms/step - loss: 0.0044 - accuracy: 0.8052 - val_loss: 0.0043 - val_accuracy: 0.8152\n",
      "Epoch 70/100\n",
      "1407/1407 [==============================] - 12s 8ms/step - loss: 0.0044 - accuracy: 0.8055 - val_loss: 0.0044 - val_accuracy: 0.7774\n",
      "Epoch 71/100\n",
      "1407/1407 [==============================] - 9s 6ms/step - loss: 0.0044 - accuracy: 0.8048 - val_loss: 0.0044 - val_accuracy: 0.8077\n",
      "Epoch 72/100\n",
      "1407/1407 [==============================] - 10s 7ms/step - loss: 0.0044 - accuracy: 0.8053 - val_loss: 0.0049 - val_accuracy: 0.8216\n",
      "Epoch 73/100\n",
      "1407/1407 [==============================] - 9s 6ms/step - loss: 0.0044 - accuracy: 0.8042 - val_loss: 0.0045 - val_accuracy: 0.8294\n",
      "Epoch 74/100\n",
      "1407/1407 [==============================] - 9s 6ms/step - loss: 0.0043 - accuracy: 0.8049 - val_loss: 0.0043 - val_accuracy: 0.8279\n",
      "Epoch 75/100\n",
      "1407/1407 [==============================] - 9s 6ms/step - loss: 0.0043 - accuracy: 0.8046 - val_loss: 0.0045 - val_accuracy: 0.8273\n",
      "Epoch 76/100\n",
      "1407/1407 [==============================] - 9s 7ms/step - loss: 0.0043 - accuracy: 0.8063 - val_loss: 0.0043 - val_accuracy: 0.8187\n",
      "Epoch 77/100\n",
      "1407/1407 [==============================] - 12s 9ms/step - loss: 0.0043 - accuracy: 0.8055 - val_loss: 0.0043 - val_accuracy: 0.8161\n",
      "Epoch 78/100\n",
      "1407/1407 [==============================] - 10s 7ms/step - loss: 0.0043 - accuracy: 0.8051 - val_loss: 0.0045 - val_accuracy: 0.8261\n",
      "Epoch 79/100\n",
      "1407/1407 [==============================] - 10s 7ms/step - loss: 0.0043 - accuracy: 0.8068 - val_loss: 0.0044 - val_accuracy: 0.8177\n",
      "Epoch 80/100\n",
      "1407/1407 [==============================] - 9s 6ms/step - loss: 0.0043 - accuracy: 0.8059 - val_loss: 0.0042 - val_accuracy: 0.8211\n",
      "Epoch 81/100\n",
      "1407/1407 [==============================] - 9s 6ms/step - loss: 0.0043 - accuracy: 0.8066 - val_loss: 0.0043 - val_accuracy: 0.7826\n",
      "Epoch 82/100\n",
      "1407/1407 [==============================] - 9s 7ms/step - loss: 0.0043 - accuracy: 0.8054 - val_loss: 0.0042 - val_accuracy: 0.8185\n",
      "Epoch 83/100\n",
      "1407/1407 [==============================] - 9s 7ms/step - loss: 0.0043 - accuracy: 0.8059 - val_loss: 0.0043 - val_accuracy: 0.8243\n",
      "Epoch 84/100\n",
      "1407/1407 [==============================] - 11s 8ms/step - loss: 0.0043 - accuracy: 0.8063 - val_loss: 0.0044 - val_accuracy: 0.8211\n",
      "Epoch 85/100\n",
      "1407/1407 [==============================] - 11s 8ms/step - loss: 0.0043 - accuracy: 0.8057 - val_loss: 0.0042 - val_accuracy: 0.8172\n",
      "Epoch 86/100\n",
      "1407/1407 [==============================] - 10s 7ms/step - loss: 0.0043 - accuracy: 0.8069 - val_loss: 0.0042 - val_accuracy: 0.8095\n",
      "Epoch 87/100\n",
      "1407/1407 [==============================] - 9s 6ms/step - loss: 0.0043 - accuracy: 0.8061 - val_loss: 0.0044 - val_accuracy: 0.8137\n",
      "Epoch 88/100\n",
      "1407/1407 [==============================] - 9s 6ms/step - loss: 0.0043 - accuracy: 0.8075 - val_loss: 0.0043 - val_accuracy: 0.8242\n",
      "Epoch 89/100\n",
      "1407/1407 [==============================] - 9s 7ms/step - loss: 0.0043 - accuracy: 0.8063 - val_loss: 0.0043 - val_accuracy: 0.7757\n",
      "Epoch 90/100\n",
      "1407/1407 [==============================] - 9s 6ms/step - loss: 0.0043 - accuracy: 0.8066 - val_loss: 0.0042 - val_accuracy: 0.8162\n",
      "Epoch 91/100\n",
      "1407/1407 [==============================] - 9s 6ms/step - loss: 0.0043 - accuracy: 0.8065 - val_loss: 0.0046 - val_accuracy: 0.7954\n",
      "Epoch 92/100\n",
      "1407/1407 [==============================] - 13s 9ms/step - loss: 0.0043 - accuracy: 0.8073 - val_loss: 0.0043 - val_accuracy: 0.8117\n",
      "Epoch 93/100\n",
      "1407/1407 [==============================] - 10s 7ms/step - loss: 0.0043 - accuracy: 0.8076 - val_loss: 0.0042 - val_accuracy: 0.8237\n",
      "Epoch 94/100\n",
      "1407/1407 [==============================] - 9s 6ms/step - loss: 0.0043 - accuracy: 0.8064 - val_loss: 0.0042 - val_accuracy: 0.8341\n",
      "Epoch 95/100\n",
      "1407/1407 [==============================] - 9s 6ms/step - loss: 0.0043 - accuracy: 0.8073 - val_loss: 0.0042 - val_accuracy: 0.8342\n",
      "Epoch 96/100\n",
      "1407/1407 [==============================] - 9s 7ms/step - loss: 0.0043 - accuracy: 0.8070 - val_loss: 0.0042 - val_accuracy: 0.8131\n",
      "Epoch 97/100\n",
      "1407/1407 [==============================] - 9s 6ms/step - loss: 0.0043 - accuracy: 0.8075 - val_loss: 0.0042 - val_accuracy: 0.8198\n",
      "Epoch 98/100\n",
      "1407/1407 [==============================] - 9s 6ms/step - loss: 0.0042 - accuracy: 0.8074 - val_loss: 0.0043 - val_accuracy: 0.8132\n",
      "Epoch 99/100\n",
      "1407/1407 [==============================] - 10s 7ms/step - loss: 0.0042 - accuracy: 0.8076 - val_loss: 0.0042 - val_accuracy: 0.8218\n",
      "Epoch 100/100\n",
      "1407/1407 [==============================] - 13s 9ms/step - loss: 0.0042 - accuracy: 0.8067 - val_loss: 0.0042 - val_accuracy: 0.8354\n"
     ]
    }
   ],
   "source": [
    "auto = autoencoder.fit(X_unlabeled, X_unlabeled, epochs=100,\n",
    "          validation_data=(X_val, X_val), callbacks=[early_stopping_cb, check_pointer])"
   ]
  },
  {
   "cell_type": "code",
   "execution_count": 16,
   "id": "10fb4579",
   "metadata": {
    "execution": {
     "iopub.execute_input": "2022-01-12T11:55:46.868364Z",
     "iopub.status.busy": "2022-01-12T11:55:46.866032Z",
     "iopub.status.idle": "2022-01-12T11:55:46.869155Z",
     "shell.execute_reply": "2022-01-12T11:55:46.869685Z",
     "shell.execute_reply.started": "2022-01-12T11:34:48.303687Z"
    },
    "papermill": {
     "duration": 7.307208,
     "end_time": "2022-01-12T11:55:46.869836",
     "exception": false,
     "start_time": "2022-01-12T11:55:39.562628",
     "status": "completed"
    },
    "tags": []
   },
   "outputs": [],
   "source": [
    "num_layers = encoder.layers"
   ]
  },
  {
   "cell_type": "code",
   "execution_count": 17,
   "id": "1afcba98",
   "metadata": {
    "execution": {
     "iopub.execute_input": "2022-01-12T11:55:58.917008Z",
     "iopub.status.busy": "2022-01-12T11:55:58.916034Z",
     "iopub.status.idle": "2022-01-12T11:55:58.962808Z",
     "shell.execute_reply": "2022-01-12T11:55:58.963469Z",
     "shell.execute_reply.started": "2022-01-12T11:34:48.311381Z"
    },
    "papermill": {
     "duration": 6.196421,
     "end_time": "2022-01-12T11:55:58.963624",
     "exception": false,
     "start_time": "2022-01-12T11:55:52.767203",
     "status": "completed"
    },
    "tags": []
   },
   "outputs": [],
   "source": [
    "# use encoder as network model\n",
    "encoder.add(Flatten())\n",
    "encoder.add(Dense(512, activation=\"relu\"))\n",
    "encoder.add(Dense(256, activation=\"relu\"))\n",
    "encoder.add(Dense(128, activation=\"relu\"))\n",
    "encoder.add(Dense(100, activation='softmax'))"
   ]
  },
  {
   "cell_type": "code",
   "execution_count": 18,
   "id": "dca87573",
   "metadata": {
    "execution": {
     "iopub.execute_input": "2022-01-12T11:56:11.141685Z",
     "iopub.status.busy": "2022-01-12T11:56:11.140531Z",
     "iopub.status.idle": "2022-01-12T11:56:11.143589Z",
     "shell.execute_reply": "2022-01-12T11:56:11.144054Z",
     "shell.execute_reply.started": "2022-01-12T11:37:12.349238Z"
    },
    "papermill": {
     "duration": 6.245941,
     "end_time": "2022-01-12T11:56:11.144238",
     "exception": false,
     "start_time": "2022-01-12T11:56:04.898297",
     "status": "completed"
    },
    "tags": []
   },
   "outputs": [],
   "source": [
    "final_model = encoder"
   ]
  },
  {
   "cell_type": "code",
   "execution_count": null,
   "id": "9a91745c",
   "metadata": {
    "papermill": {
     "duration": 6.489854,
     "end_time": "2022-01-12T11:56:23.747772",
     "exception": false,
     "start_time": "2022-01-12T11:56:17.257918",
     "status": "completed"
    },
    "tags": []
   },
   "outputs": [],
   "source": []
  },
  {
   "cell_type": "code",
   "execution_count": 19,
   "id": "9a933515",
   "metadata": {
    "execution": {
     "iopub.execute_input": "2022-01-12T11:56:35.715186Z",
     "iopub.status.busy": "2022-01-12T11:56:35.714071Z",
     "iopub.status.idle": "2022-01-12T11:56:35.721352Z",
     "shell.execute_reply": "2022-01-12T11:56:35.720679Z",
     "shell.execute_reply.started": "2022-01-12T11:37:14.371452Z"
    },
    "papermill": {
     "duration": 5.887106,
     "end_time": "2022-01-12T11:56:35.721487",
     "exception": false,
     "start_time": "2022-01-12T11:56:29.834381",
     "status": "completed"
    },
    "tags": []
   },
   "outputs": [],
   "source": [
    "final_model.compile(loss=\"sparse_categorical_crossentropy\", optimizer=\"Adam\", metrics=['accuracy'])"
   ]
  },
  {
   "cell_type": "code",
   "execution_count": 20,
   "id": "290aac8d",
   "metadata": {
    "execution": {
     "iopub.execute_input": "2022-01-12T11:56:47.955406Z",
     "iopub.status.busy": "2022-01-12T11:56:47.954293Z",
     "iopub.status.idle": "2022-01-12T11:56:59.662494Z",
     "shell.execute_reply": "2022-01-12T11:56:59.661899Z",
     "shell.execute_reply.started": "2022-01-12T11:37:16.976454Z"
    },
    "papermill": {
     "duration": 17.624794,
     "end_time": "2022-01-12T11:56:59.662652",
     "exception": false,
     "start_time": "2022-01-12T11:56:42.037858",
     "status": "completed"
    },
    "tags": []
   },
   "outputs": [
    {
     "name": "stdout",
     "output_type": "stream",
     "text": [
      "Epoch 1/200\n",
      "125/125 [==============================] - 1s 6ms/step - loss: 4.5787 - accuracy: 0.0250 - val_loss: 4.4884 - val_accuracy: 0.0370\n",
      "Epoch 2/200\n",
      "125/125 [==============================] - 1s 5ms/step - loss: 4.2814 - accuracy: 0.0430 - val_loss: 4.2016 - val_accuracy: 0.0640\n",
      "Epoch 3/200\n",
      "125/125 [==============================] - 1s 5ms/step - loss: 3.9976 - accuracy: 0.0760 - val_loss: 4.0108 - val_accuracy: 0.0880\n",
      "Epoch 4/200\n",
      "125/125 [==============================] - 1s 6ms/step - loss: 3.7375 - accuracy: 0.1042 - val_loss: 3.9405 - val_accuracy: 0.1030\n",
      "Epoch 5/200\n",
      "125/125 [==============================] - 1s 8ms/step - loss: 3.5023 - accuracy: 0.1412 - val_loss: 3.8417 - val_accuracy: 0.1110\n",
      "Epoch 6/200\n",
      "125/125 [==============================] - 1s 7ms/step - loss: 3.2255 - accuracy: 0.1842 - val_loss: 3.8289 - val_accuracy: 0.1230\n",
      "Epoch 7/200\n",
      "125/125 [==============================] - 1s 6ms/step - loss: 2.9391 - accuracy: 0.2442 - val_loss: 3.8737 - val_accuracy: 0.1520\n",
      "Epoch 8/200\n",
      "125/125 [==============================] - 1s 6ms/step - loss: 2.5422 - accuracy: 0.3243 - val_loss: 4.0360 - val_accuracy: 0.1540\n",
      "Epoch 9/200\n",
      "125/125 [==============================] - 1s 5ms/step - loss: 2.1625 - accuracy: 0.4142 - val_loss: 4.4088 - val_accuracy: 0.1450\n",
      "Epoch 10/200\n",
      "125/125 [==============================] - 1s 5ms/step - loss: 1.7160 - accuracy: 0.5238 - val_loss: 4.7847 - val_accuracy: 0.1490\n",
      "Epoch 11/200\n",
      "125/125 [==============================] - 1s 5ms/step - loss: 1.2690 - accuracy: 0.6413 - val_loss: 5.4318 - val_accuracy: 0.1400\n",
      "Epoch 12/200\n",
      "125/125 [==============================] - 1s 5ms/step - loss: 0.8605 - accuracy: 0.7502 - val_loss: 5.9815 - val_accuracy: 0.1450\n",
      "Epoch 13/200\n",
      "125/125 [==============================] - 1s 5ms/step - loss: 0.5798 - accuracy: 0.8290 - val_loss: 6.5431 - val_accuracy: 0.1490\n",
      "Epoch 14/200\n",
      "125/125 [==============================] - 1s 5ms/step - loss: 0.4168 - accuracy: 0.8773 - val_loss: 7.0930 - val_accuracy: 0.1410\n",
      "Epoch 15/200\n",
      "125/125 [==============================] - 1s 5ms/step - loss: 0.2376 - accuracy: 0.9325 - val_loss: 8.2044 - val_accuracy: 0.1420\n",
      "Epoch 16/200\n",
      "125/125 [==============================] - 1s 5ms/step - loss: 0.2788 - accuracy: 0.9195 - val_loss: 8.1280 - val_accuracy: 0.1570\n"
     ]
    }
   ],
   "source": [
    "res = final_model.fit(X_train, y_train, epochs=200, validation_data=(X_val, y_val), callbacks=[early_stopping_cb, check_pointer])"
   ]
  },
  {
   "cell_type": "code",
   "execution_count": 21,
   "id": "e008d645",
   "metadata": {
    "execution": {
     "iopub.execute_input": "2022-01-12T11:57:12.371939Z",
     "iopub.status.busy": "2022-01-12T11:57:12.370673Z",
     "iopub.status.idle": "2022-01-12T11:57:14.037974Z",
     "shell.execute_reply": "2022-01-12T11:57:14.037334Z",
     "shell.execute_reply.started": "2022-01-12T11:37:42.917093Z"
    },
    "papermill": {
     "duration": 7.646082,
     "end_time": "2022-01-12T11:57:14.038118",
     "exception": false,
     "start_time": "2022-01-12T11:57:06.392036",
     "status": "completed"
    },
    "tags": []
   },
   "outputs": [],
   "source": [
    "y_test = final_model.predict(X_test)\n",
    "y_test = [np.argmax(x) for x in y_test]\n",
    "\n",
    "df_output = pd.DataFrame(y_test)\n",
    "df_output.index.name = 'index'\n",
    "df_output.columns = ['label']\n",
    "df_output.to_csv('output.csv')"
   ]
  }
 ],
 "metadata": {
  "kernelspec": {
   "display_name": "Python 3",
   "language": "python",
   "name": "python3"
  },
  "language_info": {
   "codemirror_mode": {
    "name": "ipython",
    "version": 3
   },
   "file_extension": ".py",
   "mimetype": "text/x-python",
   "name": "python",
   "nbconvert_exporter": "python",
   "pygments_lexer": "ipython3",
   "version": "3.7.12"
  },
  "papermill": {
   "default_parameters": {},
   "duration": 1120.355116,
   "end_time": "2022-01-12T11:57:23.531817",
   "environment_variables": {},
   "exception": null,
   "input_path": "__notebook__.ipynb",
   "output_path": "__notebook__.ipynb",
   "parameters": {},
   "start_time": "2022-01-12T11:38:43.176701",
   "version": "2.3.3"
  }
 },
 "nbformat": 4,
 "nbformat_minor": 5
}
